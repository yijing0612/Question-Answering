{
 "cells": [
  {
   "cell_type": "markdown",
   "metadata": {},
   "source": [
    "**This notebook implemented Question Answering, where based on the intent and entity extracted from user's input using trained Rasa NLU Intent Classifier and spaCy NER, the information/answer is extracted from the Neo4j knowledge graph using query.**"
   ]
  },
  {
   "cell_type": "code",
   "execution_count": 1,
   "metadata": {},
   "outputs": [],
   "source": [
    "from neo4j import GraphDatabase\n",
    "import spacy\n",
    "from spacy.matcher import Matcher \n",
    "from spacy import displacy"
   ]
  },
  {
   "cell_type": "markdown",
   "metadata": {},
   "source": [
    "### Import NER, Trained Rasa Intent Classifier, and Connect to Neo4j Driver"
   ]
  },
  {
   "cell_type": "code",
   "execution_count": 3,
   "metadata": {},
   "outputs": [],
   "source": [
    "import spacy\n",
    "ner = spacy.load(\"en_core_web_sm\")"
   ]
  },
  {
   "cell_type": "code",
   "execution_count": 11,
   "metadata": {},
   "outputs": [
    {
     "name": "stderr",
     "output_type": "stream",
     "text": [
      "C:\\Users\\yijin\\anaconda3\\envs\\drlproject\\lib\\site-packages\\future\\standard_library\\__init__.py:65: DeprecationWarning: the imp module is deprecated in favour of importlib; see the module's documentation for alternative uses\n",
      "  import imp\n",
      "C:\\Users\\yijin\\anaconda3\\envs\\drlproject\\lib\\site-packages\\rasa\\core\\tracker_store.py:1044: MovedIn20Warning: Deprecated API features detected! These feature(s) are not compatible with SQLAlchemy 2.0. To prevent incompatible upgrades prior to updating applications, ensure requirements files are pinned to \"sqlalchemy<2.0\". Set environment variable SQLALCHEMY_WARN_20=1 to show all deprecation warnings.  Set environment variable SQLALCHEMY_SILENCE_UBER_WARNING=1 to silence this message. (Background on SQLAlchemy 2.0 at: https://sqlalche.me/e/b8d9)\n",
      "  Base: DeclarativeMeta = declarative_base()\n"
     ]
    },
    {
     "name": "stdout",
     "output_type": "stream",
     "text": [
      "2023-12-07 17:09:46 [debug    ] graph.node.loading_component   clazz=NLUMessageConverter constructor=load kwargs={} node_name=nlu_message_converter\n",
      "2023-12-07 17:09:46 [debug    ] graph.node.loading_component   clazz=FlowsProvider constructor=load kwargs={} node_name=flows_provider\n",
      "2023-12-07 17:09:46 [debug    ] graph.node.loading_component   clazz=SpacyNLP constructor=load kwargs={} node_name=provide_SpacyNLP0\n",
      "2023-12-07 17:09:47 [debug    ] graph.node.loading_component   clazz=SpacyNLP constructor=load kwargs={} node_name=run_SpacyNLP0\n",
      "2023-12-07 17:09:47 [debug    ] graph.node.loading_component   clazz=SpacyTokenizer constructor=load kwargs={} node_name=run_SpacyTokenizer1\n",
      "2023-12-07 17:09:47 [debug    ] graph.node.loading_component   clazz=SpacyEntityExtractor constructor=load kwargs={} node_name=run_SpacyEntityExtractor2\n",
      "2023-12-07 17:09:47 [debug    ] graph.node.loading_component   clazz=SpacyFeaturizer constructor=load kwargs={} node_name=run_SpacyFeaturizer3\n",
      "2023-12-07 17:09:47 [debug    ] graph.node.loading_component   clazz=CountVectorsFeaturizer constructor=load kwargs={} node_name=run_CountVectorsFeaturizer4\n",
      "2023-12-07 17:09:47 [debug    ] graph.node.loading_component   clazz=DIETClassifier constructor=load kwargs={} node_name=run_DIETClassifier5\n"
     ]
    },
    {
     "name": "stderr",
     "output_type": "stream",
     "text": [
      "C:\\Users\\yijin\\anaconda3\\envs\\drlproject\\lib\\site-packages\\rasa\\utils\\train_utils.py:525: UserWarning: constrain_similarities is set to `False`. It is recommended to set it to `True` when using cross-entropy loss.\n",
      "  rasa.shared.utils.io.raise_warning(\n"
     ]
    },
    {
     "name": "stdout",
     "output_type": "stream",
     "text": [
      "2023-12-07 17:10:01 [debug    ] graph.node.loading_component   clazz=RegexMessageHandler constructor=load kwargs={} node_name=run_RegexMessageHandler\n"
     ]
    },
    {
     "name": "stderr",
     "output_type": "stream",
     "text": [
      "C:\\Users\\yijin\\anaconda3\\envs\\drlproject\\lib\\site-packages\\rasa\\core\\processor.py:112: UserWarning: The model metadata does not contain a value for the 'assistant_id' attribute. Check that 'config.yml' file contains a value for the 'assistant_id' key and re-train the model. Failure to do so will result in streaming events without a unique assistant identifier.\n",
      "  rasa.shared.utils.io.raise_warning(\n"
     ]
    }
   ],
   "source": [
    "#load the trained model using Agent\n",
    "from rasa.core.agent import Agent\n",
    "\n",
    "agent = Agent.load(model_path='nlu-20231207-165856-simple-score.tar.gz')"
   ]
  },
  {
   "cell_type": "code",
   "execution_count": 63,
   "metadata": {},
   "outputs": [],
   "source": [
    "driver = GraphDatabase.driver(\"bolt://localhost:7687\", \n",
    "                              auth=(\"neo4j\", \n",
    "                                    \"12345678\"))"
   ]
  },
  {
   "cell_type": "markdown",
   "metadata": {},
   "source": [
    "### Question Answering Design"
   ]
  },
  {
   "cell_type": "code",
   "execution_count": 231,
   "metadata": {},
   "outputs": [],
   "source": [
    "# function to extract entities using spacy \n",
    "def extract_named_entity(text):\n",
    "    # Process the text with spaCy NER\n",
    "    doc = ner(text)\n",
    "\n",
    "    # Extract named entities\n",
    "    entities = [(ent.text, ent.label_) for ent in doc.ents]\n",
    "\n",
    "    # Display the entities using spaCy's displacy\n",
    "    displacy.render(doc, style=\"ent\", jupyter=True)\n",
    "\n",
    "    return entities"
   ]
  },
  {
   "cell_type": "code",
   "execution_count": 237,
   "metadata": {},
   "outputs": [],
   "source": [
    "# function to extract intent and entities (using spacy and trained rasa)\n",
    "async def get_intent_and_entities(input):\n",
    "\n",
    "    # Extract intent\n",
    "    result = await agent.parse_message(message_data = input)\n",
    "    print(result)\n",
    "    intent = result['intent']['name']\n",
    "    #e = result['entities']['name']\n",
    "\n",
    "    # Extract entities\n",
    "    entities = extract_named_entity(input)\n",
    "\n",
    "    return intent, entities"
   ]
  },
  {
   "cell_type": "code",
   "execution_count": 238,
   "metadata": {},
   "outputs": [
    {
     "name": "stdout",
     "output_type": "stream",
     "text": [
      "2023-12-08 10:33:03 [debug    ] graph.node.running_component   clazz=NLUMessageConverter fn=convert_user_message node_name=nlu_message_converter\n",
      "2023-12-08 10:33:03 [debug    ] graph.node.running_component   clazz=SpacyNLP fn=provide node_name=provide_SpacyNLP0\n",
      "2023-12-08 10:33:03 [debug    ] graph.node.running_component   clazz=SpacyNLP fn=process node_name=run_SpacyNLP0\n",
      "2023-12-08 10:33:03 [debug    ] graph.node.running_component   clazz=SpacyTokenizer fn=process node_name=run_SpacyTokenizer1\n",
      "2023-12-08 10:33:03 [debug    ] graph.node.running_component   clazz=SpacyEntityExtractor fn=process node_name=run_SpacyEntityExtractor2\n",
      "2023-12-08 10:33:03 [debug    ] graph.node.running_component   clazz=SpacyFeaturizer fn=process node_name=run_SpacyFeaturizer3\n",
      "2023-12-08 10:33:03 [debug    ] graph.node.running_component   clazz=CountVectorsFeaturizer fn=process node_name=run_CountVectorsFeaturizer4\n",
      "2023-12-08 10:33:03 [debug    ] graph.node.running_component   clazz=DIETClassifier fn=process node_name=run_DIETClassifier5\n",
      "2023-12-08 10:33:03 [debug    ] graph.node.running_component   clazz=RegexMessageHandler fn=process node_name=run_RegexMessageHandler\n",
      "2023-12-08 10:33:03 [debug    ] processor.message.parse        parse_data_entities=[{'entity': 'PERSON', 'value': 'Ray Kurzweil', 'start': 24, 'confidence': None, 'end': 36, 'extractor': 'SpacyEntityExtractor'}, {'entity': 'GPE', 'value': 'America', 'start': 57, 'confidence': None, 'end': 64, 'extractor': 'SpacyEntityExtractor'}] parse_data_intent={'name': 'where_question', 'confidence': 0.9990310668945312} parse_data_text=I am curious, where did Ray Kurzweil worked at? Is it in America\n",
      "{'text': 'I am curious, where did Ray Kurzweil worked at? Is it in America', 'intent': {'name': 'where_question', 'confidence': 0.9990310668945312}, 'entities': [{'entity': 'PERSON', 'value': 'Ray Kurzweil', 'start': 24, 'confidence': None, 'end': 36, 'extractor': 'SpacyEntityExtractor'}, {'entity': 'GPE', 'value': 'America', 'start': 57, 'confidence': None, 'end': 64, 'extractor': 'SpacyEntityExtractor'}], 'text_tokens': [(0, 1), (2, 4), (5, 12), (12, 13), (14, 19), (20, 23), (24, 27), (28, 36), (37, 43), (44, 46), (46, 47), (48, 50), (51, 53), (54, 56), (57, 64)], 'intent_ranking': [{'name': 'where_question', 'confidence': 0.9990310668945312}, {'name': 'when_question', 'confidence': 0.0006264324183575809}, {'name': 'what_question', 'confidence': 0.00021842599380761385}, {'name': 'who_question', 'confidence': 0.0001241316640516743}]}\n"
     ]
    },
    {
     "data": {
      "text/html": [
       "<span class=\"tex2jax_ignore\"><div class=\"entities\" style=\"line-height: 2.5; direction: ltr\">I am curious, where did \n",
       "<mark class=\"entity\" style=\"background: #aa9cfc; padding: 0.45em 0.6em; margin: 0 0.25em; line-height: 1; border-radius: 0.35em;\">\n",
       "    Ray Kurzweil\n",
       "    <span style=\"font-size: 0.8em; font-weight: bold; line-height: 1; border-radius: 0.35em; vertical-align: middle; margin-left: 0.5rem\">PERSON</span>\n",
       "</mark>\n",
       " worked at? Is it in \n",
       "<mark class=\"entity\" style=\"background: #feca74; padding: 0.45em 0.6em; margin: 0 0.25em; line-height: 1; border-radius: 0.35em;\">\n",
       "    America\n",
       "    <span style=\"font-size: 0.8em; font-weight: bold; line-height: 1; border-radius: 0.35em; vertical-align: middle; margin-left: 0.5rem\">GPE</span>\n",
       "</mark>\n",
       "</div></span>"
      ],
      "text/plain": [
       "<IPython.core.display.HTML object>"
      ]
     },
     "metadata": {},
     "output_type": "display_data"
    },
    {
     "name": "stdout",
     "output_type": "stream",
     "text": [
      "[('Ray Kurzweil', 'PERSON'), ('America', 'GPE')]\n"
     ]
    }
   ],
   "source": [
    "test = \"I am curious, where did Ray Kurzweil worked at? Is it in America\"\n",
    "intent, entities = await get_intent_and_entities(test)\n",
    "print(entities)"
   ]
  },
  {
   "cell_type": "code",
   "execution_count": 407,
   "metadata": {},
   "outputs": [
    {
     "name": "stdout",
     "output_type": "stream",
     "text": [
      "2023-12-08 12:27:34 [debug    ] graph.node.running_component   clazz=NLUMessageConverter fn=convert_user_message node_name=nlu_message_converter\n",
      "2023-12-08 12:27:34 [debug    ] graph.node.running_component   clazz=SpacyNLP fn=provide node_name=provide_SpacyNLP0\n",
      "2023-12-08 12:27:34 [debug    ] graph.node.running_component   clazz=SpacyNLP fn=process node_name=run_SpacyNLP0\n",
      "2023-12-08 12:27:34 [debug    ] graph.node.running_component   clazz=SpacyTokenizer fn=process node_name=run_SpacyTokenizer1\n",
      "2023-12-08 12:27:34 [debug    ] graph.node.running_component   clazz=SpacyEntityExtractor fn=process node_name=run_SpacyEntityExtractor2\n",
      "2023-12-08 12:27:34 [debug    ] graph.node.running_component   clazz=SpacyFeaturizer fn=process node_name=run_SpacyFeaturizer3\n",
      "2023-12-08 12:27:34 [debug    ] graph.node.running_component   clazz=CountVectorsFeaturizer fn=process node_name=run_CountVectorsFeaturizer4\n",
      "2023-12-08 12:27:34 [debug    ] graph.node.running_component   clazz=DIETClassifier fn=process node_name=run_DIETClassifier5\n",
      "2023-12-08 12:27:34 [debug    ] graph.node.running_component   clazz=RegexMessageHandler fn=process node_name=run_RegexMessageHandler\n",
      "2023-12-08 12:27:34 [debug    ] processor.message.parse        parse_data_entities=[] parse_data_intent={'name': 'who_question', 'confidence': 0.5222854018211365} parse_data_text=Kurzweil Educational Systems\n",
      "{'text': 'Kurzweil Educational Systems', 'intent': {'name': 'who_question', 'confidence': 0.5222854018211365}, 'entities': [], 'text_tokens': [(0, 8), (9, 20), (21, 28)], 'intent_ranking': [{'name': 'who_question', 'confidence': 0.5222854018211365}, {'name': 'when_question', 'confidence': 0.46074339747428894}, {'name': 'where_question', 'confidence': 0.015384928323328495}, {'name': 'what_question', 'confidence': 0.0015862497966736555}]}\n"
     ]
    },
    {
     "data": {
      "text/html": [
       "<span class=\"tex2jax_ignore\"><div class=\"entities\" style=\"line-height: 2.5; direction: ltr\">\n",
       "<mark class=\"entity\" style=\"background: #7aecec; padding: 0.45em 0.6em; margin: 0 0.25em; line-height: 1; border-radius: 0.35em;\">\n",
       "    Kurzweil Educational Systems\n",
       "    <span style=\"font-size: 0.8em; font-weight: bold; line-height: 1; border-radius: 0.35em; vertical-align: middle; margin-left: 0.5rem\">ORG</span>\n",
       "</mark>\n",
       "</div></span>"
      ],
      "text/plain": [
       "<IPython.core.display.HTML object>"
      ]
     },
     "metadata": {},
     "output_type": "display_data"
    },
    {
     "name": "stdout",
     "output_type": "stream",
     "text": [
      "[('Kurzweil Educational Systems', 'ORG')]\n"
     ]
    }
   ],
   "source": [
    "test = \"Kurzweil Educational Systems\"\n",
    "intent, entities = await get_intent_and_entities(test)\n",
    "print(entities)"
   ]
  },
  {
   "cell_type": "code",
   "execution_count": 431,
   "metadata": {},
   "outputs": [
    {
     "name": "stdout",
     "output_type": "stream",
     "text": [
      "2023-12-08 12:53:13 [debug    ] graph.node.running_component   clazz=NLUMessageConverter fn=convert_user_message node_name=nlu_message_converter\n",
      "2023-12-08 12:53:13 [debug    ] graph.node.running_component   clazz=SpacyNLP fn=provide node_name=provide_SpacyNLP0\n",
      "2023-12-08 12:53:13 [debug    ] graph.node.running_component   clazz=SpacyNLP fn=process node_name=run_SpacyNLP0\n",
      "2023-12-08 12:53:13 [debug    ] graph.node.running_component   clazz=SpacyTokenizer fn=process node_name=run_SpacyTokenizer1\n",
      "2023-12-08 12:53:13 [debug    ] graph.node.running_component   clazz=SpacyEntityExtractor fn=process node_name=run_SpacyEntityExtractor2\n",
      "2023-12-08 12:53:13 [debug    ] graph.node.running_component   clazz=SpacyFeaturizer fn=process node_name=run_SpacyFeaturizer3\n",
      "2023-12-08 12:53:13 [debug    ] graph.node.running_component   clazz=CountVectorsFeaturizer fn=process node_name=run_CountVectorsFeaturizer4\n",
      "2023-12-08 12:53:13 [debug    ] graph.node.running_component   clazz=DIETClassifier fn=process node_name=run_DIETClassifier5\n",
      "2023-12-08 12:53:13 [debug    ] graph.node.running_component   clazz=RegexMessageHandler fn=process node_name=run_RegexMessageHandler\n",
      "2023-12-08 12:53:13 [debug    ] processor.message.parse        parse_data_entities=[{'entity': 'PERSON', 'value': 'Ray Kurzweil', 'start': 10, 'confidence': None, 'end': 22, 'extractor': 'SpacyEntityExtractor'}] parse_data_intent={'name': 'who_question', 'confidence': 0.9999516010284424} parse_data_text=Father of Ray Kurzweil\n",
      "{'text': 'Father of Ray Kurzweil', 'intent': {'name': 'who_question', 'confidence': 0.9999516010284424}, 'entities': [{'entity': 'PERSON', 'value': 'Ray Kurzweil', 'start': 10, 'confidence': None, 'end': 22, 'extractor': 'SpacyEntityExtractor'}], 'text_tokens': [(0, 6), (7, 9), (10, 13), (14, 22)], 'intent_ranking': [{'name': 'who_question', 'confidence': 0.9999516010284424}, {'name': 'what_question', 'confidence': 4.800932219950482e-05}, {'name': 'where_question', 'confidence': 2.470047206770687e-07}, {'name': 'when_question', 'confidence': 1.50569206880391e-07}]}\n"
     ]
    },
    {
     "data": {
      "text/html": [
       "<span class=\"tex2jax_ignore\"><div class=\"entities\" style=\"line-height: 2.5; direction: ltr\">Father of \n",
       "<mark class=\"entity\" style=\"background: #aa9cfc; padding: 0.45em 0.6em; margin: 0 0.25em; line-height: 1; border-radius: 0.35em;\">\n",
       "    Ray Kurzweil\n",
       "    <span style=\"font-size: 0.8em; font-weight: bold; line-height: 1; border-radius: 0.35em; vertical-align: middle; margin-left: 0.5rem\">PERSON</span>\n",
       "</mark>\n",
       "</div></span>"
      ],
      "text/plain": [
       "<IPython.core.display.HTML object>"
      ]
     },
     "metadata": {},
     "output_type": "display_data"
    },
    {
     "name": "stdout",
     "output_type": "stream",
     "text": [
      "[('Ray Kurzweil', 'PERSON')]\n"
     ]
    }
   ],
   "source": [
    "test = \"Father of Ray Kurzweil\"\n",
    "intent, entities = await get_intent_and_entities(test)\n",
    "print(entities)"
   ]
  },
  {
   "cell_type": "code",
   "execution_count": 462,
   "metadata": {},
   "outputs": [],
   "source": [
    "# function to handle who_question\n",
    "def handle_who_question(entities, input):\n",
    "    \n",
    "    if not entities:\n",
    "        return \"Sorry, I couldn't identify the entity in the 'who' question.\"\n",
    "\n",
    "    #entity_titles = [entity[0] for entity in entities if isinstance(entity, tuple)]\n",
    "    entity_info = [(entity[0], entity[1]) for entity in entities if isinstance(entity, tuple)]\n",
    "    entity_titles = [info[0] for info in entity_info]\n",
    "    entity_labels = [info[1] for info in entity_info]\n",
    "\n",
    "    if not entity_titles:\n",
    "        return \"Sorry, I couldn't identify the entity in the 'where' question.\"\n",
    "\n",
    "    input_ques = input.lower()\n",
    "    unique_responses = set()\n",
    "\n",
    "    with driver.session() as session:\n",
    "\n",
    "        if ((entity_labels[0] == 'ORG') and ('winner' in input_ques or 'award' in input_ques)):\n",
    "\n",
    "            result = session.run(f\"MATCH (p:Entity WHERE p.title = '{entity_titles[0]}')-[:`award received`|`winner`|`has received`]->(n) RETURN n.title AS n\")\n",
    "\n",
    "            for record in result:\n",
    "                output = record[\"n\"]\n",
    "\n",
    "                if output is not None:\n",
    "                    unique_responses.add(''.join(output))\n",
    "                    \n",
    "        elif (entity_labels[0] == 'ORG'):\n",
    "            result = session.run(f\"MATCH (p:Entity WHERE p.title = '{entity_titles[0]}')-[:`headquarters location`]->(n) RETURN n.title AS n\")\n",
    "\n",
    "            for record in result:\n",
    "                output = record[\"n\"]\n",
    "\n",
    "                if output is not None:\n",
    "                    unique_responses.add(''.join(output))\n",
    "\n",
    "        elif (entity_labels[0] == 'PERSON'):\n",
    "            if 'father' in input_ques or 'dad' in input_ques:\n",
    "                result = session.run(f\"MATCH (p:Entity WHERE p.title = '{entity_titles[0]}')-[:`father`]->(n) RETURN n.title AS n\")\n",
    "\n",
    "                for record in result:\n",
    "                    output = record[\"n\"]\n",
    "\n",
    "                    if output is not None:\n",
    "                        unique_responses.add(''.join(output))\n",
    "                        \n",
    "            if 'child' in input_ques or 'son' in input_ques or 'daughter' in input_ques:\n",
    "                result = session.run(f\"MATCH (p:Entity WHERE p.title = '{entity_titles[0]}')-[:`child`]->(n) RETURN n.title AS n\")\n",
    "\n",
    "                for record in result:\n",
    "                    output = record[\"n\"]\n",
    "\n",
    "                    if output is not None:\n",
    "                        unique_responses.add(''.join(output))\n",
    "\n",
    "            if 'sibling' in input_ques or 'bro' in input_ques or 'sis' in input_ques:\n",
    "                result = session.run(f\"MATCH (p:Entity WHERE p.title = '{entity_titles[0]}')-[:`sibling`]->(n) RETURN n.title AS n\")\n",
    "\n",
    "                for record in result:\n",
    "                    output = record[\"n\"]\n",
    "\n",
    "                    if output is not None:\n",
    "                        unique_responses.add(''.join(output))\n",
    "\n",
    "            if 'family' in input_ques:\n",
    "                result = session.run(f\"MATCH (p:Entity WHERE p.title = '{entity_titles[0]}')-[:`father`|`child`|`siblings`]->(n) RETURN n.title AS n\")\n",
    "\n",
    "                for record in result:\n",
    "                    output = record[\"n\"]\n",
    "\n",
    "                    if output is not None:\n",
    "                        unique_responses.add(''.join(output))\n",
    "\n",
    "        if unique_responses:\n",
    "            return \"\\n\".join(unique_responses)\n",
    "        else:\n",
    "            return f\"No information found about the locations related to {entity_titles[0]}.\""
   ]
  },
  {
   "cell_type": "code",
   "execution_count": 463,
   "metadata": {},
   "outputs": [],
   "source": [
    "# function to handle where_question\n",
    "def handle_where_question(entities, input):\n",
    "    \n",
    "    if not entities:\n",
    "        return \"Sorry, I couldn't identify the entity in the 'where' question.\"\n",
    "\n",
    "    #entity_titles = [entity[0] for entity in entities if isinstance(entity, tuple)]\n",
    "    entity_info = [(entity[0], entity[1]) for entity in entities if isinstance(entity, tuple)]\n",
    "    entity_titles = [info[0] for info in entity_info]\n",
    "    entity_labels = [info[1] for info in entity_info]\n",
    "\n",
    "    if not entity_titles:\n",
    "        return \"Sorry, I couldn't identify the entity in the 'where' question.\"\n",
    "\n",
    "    input_ques = input.lower()\n",
    "    unique_responses = set()\n",
    "\n",
    "    with driver.session() as session:\n",
    "\n",
    "        if (entity_labels[0] == 'PERSON'):\n",
    "\n",
    "            result = session.run(f\"MATCH (p:Entity WHERE p.title = '{entity_titles[0]}')-[:`educated at`]->(location) RETURN location.title AS locationTitle\")\n",
    "\n",
    "            for record in result:\n",
    "                location_title = record[\"locationTitle\"]\n",
    "\n",
    "                if location_title is not None:\n",
    "                   unique_responses.add(''.join(location_title))\n",
    "\n",
    "        elif (entity_labels[0] == 'ORG'):\n",
    "            result = session.run(f\"MATCH (p:Entity WHERE p.title = '{entity_titles[0]}')-[:`headquarters location`]->(location) RETURN location.title AS locationTitle\")\n",
    "\n",
    "\n",
    "            for record in result:\n",
    "                location_title = record[\"locationTitle\"]\n",
    "\n",
    "                if location_title is not None:\n",
    "                   unique_responses.add(''.join(location_title))\n",
    "\n",
    "        if unique_responses:\n",
    "            return \"\\n\".join(unique_responses)\n",
    "        else:\n",
    "            return f\"No information found about the locations related to {entity_titles[0]}.\""
   ]
  },
  {
   "cell_type": "code",
   "execution_count": 464,
   "metadata": {},
   "outputs": [],
   "source": [
    "# function to handle when_question\n",
    "def handle_when_question(entities, input):\n",
    "    \n",
    "    if not entities:\n",
    "        return \"Sorry, I couldn't identify the entity in the 'when' question.\"\n",
    "\n",
    "    #entity_titles = [entity[0] for entity in entities if isinstance(entity, tuple)]\n",
    "    entity_info = [(entity[0], entity[1]) for entity in entities if isinstance(entity, tuple)]\n",
    "    entity_titles = [info[0] for info in entity_info]\n",
    "    entity_labels = [info[1] for info in entity_info]\n",
    "\n",
    "    if not entity_titles:\n",
    "        return \"Sorry, I couldn't identify the entity in the 'when' question.\"\n",
    "\n",
    "    input_ques = input.lower()\n",
    "    unique_responses = set()\n",
    "\n",
    "    with driver.session() as session:\n",
    "\n",
    "        if ((entity_labels[0] == 'PERSON') and ('born' in input_ques or 'birth' in input_ques)):\n",
    "\n",
    "            result = session.run(f\"MATCH (p:Entity WHERE p.title = '{entity_titles[0]}')-[:`date of birth`]->(n) RETURN n.title AS n\")\n",
    "\n",
    "            for record in result:\n",
    "                output = record[\"n\"]\n",
    "\n",
    "                if output is not None:\n",
    "                    unique_responses.add(''.join(output))\n",
    "\n",
    "        elif ((entity_labels[0] == 'ORG') and ('invent' in input_ques or 'publish' in input_ques or 'publish' in input_ques)):\n",
    "            result = session.run(f\"MATCH (p:Entity WHERE p.title = '{entity_titles[0]}')-[:`publication date`]->(n) RETURN n.title AS n\")\n",
    "\n",
    "            for record in result:\n",
    "                output = record[\"n\"]\n",
    "\n",
    "                if output is not None:\n",
    "                    unique_responses.add(''.join(output))\n",
    "\n",
    "        if unique_responses:\n",
    "            return \"\\n\".join(unique_responses)\n",
    "        else:\n",
    "            return f\"No information found about the locations related to {entity_titles[0]}.\""
   ]
  },
  {
   "cell_type": "code",
   "execution_count": 465,
   "metadata": {},
   "outputs": [],
   "source": [
    "# function to handle what_question\n",
    "def handle_what_question(entities, input):\n",
    "    \n",
    "    if not entities:\n",
    "        return \"Sorry, I couldn't identify the entity in the 'who' question.\"\n",
    "\n",
    "    #entity_titles = [entity[0] for entity in entities if isinstance(entity, tuple)]\n",
    "    entity_info = [(entity[0], entity[1]) for entity in entities if isinstance(entity, tuple)]\n",
    "    entity_titles = [info[0] for info in entity_info]\n",
    "    entity_labels = [info[1] for info in entity_info]\n",
    "\n",
    "    if not entity_titles:\n",
    "        return \"Sorry, I couldn't identify the entity in the 'where' question.\"\n",
    "\n",
    "    input_ques = input.lower()\n",
    "    unique_responses = set()\n",
    "\n",
    "    with driver.session() as session:\n",
    "\n",
    "        if ((entity_labels[0] == 'PERSON') and ('winner' in input_ques or 'award' in input_ques)):\n",
    "\n",
    "            result = session.run(f\"MATCH (p:Entity WHERE p.title = '{entity_titles[0]}')-[:`award received`|`winner`|`has received`]->(n) RETURN n.title AS n\")\n",
    "\n",
    "            for record in result:\n",
    "                output = record[\"n\"]\n",
    "\n",
    "                if output is not None:\n",
    "                    unique_responses.add(''.join(output))\n",
    "\n",
    "        elif ((entity_labels[0] == 'PERSON') and ('occupation' in input_ques or 'work as' in input_ques)):\n",
    "            \n",
    "            result = session.run(f\"MATCH (p:Entity WHERE p.title = '{entity_titles[0]}')-[:`occupation`]->(n) RETURN n.title AS n\")\n",
    "\n",
    "            if result.peek() is None:\n",
    "                response_messages.append(f\"No information found about the location related to {entity_titles[0]}.\")\n",
    "\n",
    "            for record in result:\n",
    "                output = record[\"n\"]\n",
    "\n",
    "                if output is not None:\n",
    "                    unique_responses.add(''.join(output))\n",
    "\n",
    "        elif ((entity_labels[0] == 'PERSON') and ('work' in input_ques or 'relate' in input_ques)):\n",
    "            \n",
    "            result = session.run(f\"MATCH (p:Entity WHERE p.title = '{entity_titles[0]}')-[:`field of work`]->(n) RETURN n.title AS n\")\n",
    "\n",
    "            if result.peek() is None:\n",
    "                response_messages.append(f\"No information found about the location related to {entity_titles[0]}.\")\n",
    "\n",
    "            for record in result:\n",
    "                output = record[\"n\"]\n",
    "\n",
    "                if output is not None:\n",
    "                    unique_responses.add(''.join(output))\n",
    "\n",
    "        if unique_responses:\n",
    "            return \"\\n\".join(unique_responses)\n",
    "        else:\n",
    "            return f\"No information found about the locations related to {entity_titles[0]}.\""
   ]
  },
  {
   "cell_type": "code",
   "execution_count": 466,
   "metadata": {},
   "outputs": [],
   "source": [
    "# utility function that will take user's question as input and return answer\n",
    "async def get_answer(input):\n",
    "    \n",
    "    input = input.replace(\"Raymond Kurzweil\", \"Ray Kurzweil\")\n",
    "    intent, entities = await get_intent_and_entities(input)\n",
    "    \n",
    "    if intent == \"who_question\":\n",
    "        ans =  handle_who_question(entities, input)\n",
    "    elif intent == \"where_question\":\n",
    "        ans = handle_where_question(entities, input)\n",
    "    elif intent == \"when_question\":\n",
    "        ans = handle_when_question(entities, input)\n",
    "    elif intent == \"what_question\":\n",
    "        ans = handle_what_question(entities, input)\n",
    "    else:\n",
    "        ans = \"Sorry, I don't understand what you're asking.\"\n",
    "\n",
    "    print(\"\\n\\nQuestion: \", input)\n",
    "    print(\"\\nAnswer:\\n\", ans)"
   ]
  },
  {
   "cell_type": "markdown",
   "metadata": {},
   "source": [
    "### Test the Question Answering Application"
   ]
  },
  {
   "cell_type": "code",
   "execution_count": 467,
   "metadata": {},
   "outputs": [
    {
     "name": "stdout",
     "output_type": "stream",
     "text": [
      "2023-12-08 13:59:51 [debug    ] graph.node.running_component   clazz=NLUMessageConverter fn=convert_user_message node_name=nlu_message_converter\n",
      "2023-12-08 13:59:51 [debug    ] graph.node.running_component   clazz=SpacyNLP fn=provide node_name=provide_SpacyNLP0\n",
      "2023-12-08 13:59:51 [debug    ] graph.node.running_component   clazz=SpacyNLP fn=process node_name=run_SpacyNLP0\n",
      "2023-12-08 13:59:51 [debug    ] graph.node.running_component   clazz=SpacyTokenizer fn=process node_name=run_SpacyTokenizer1\n",
      "2023-12-08 13:59:51 [debug    ] graph.node.running_component   clazz=SpacyEntityExtractor fn=process node_name=run_SpacyEntityExtractor2\n",
      "2023-12-08 13:59:51 [debug    ] graph.node.running_component   clazz=SpacyFeaturizer fn=process node_name=run_SpacyFeaturizer3\n",
      "2023-12-08 13:59:51 [debug    ] graph.node.running_component   clazz=CountVectorsFeaturizer fn=process node_name=run_CountVectorsFeaturizer4\n",
      "2023-12-08 13:59:51 [debug    ] graph.node.running_component   clazz=DIETClassifier fn=process node_name=run_DIETClassifier5\n",
      "2023-12-08 13:59:51 [debug    ] graph.node.running_component   clazz=RegexMessageHandler fn=process node_name=run_RegexMessageHandler\n",
      "2023-12-08 13:59:51 [debug    ] processor.message.parse        parse_data_entities=[] parse_data_intent={'name': 'who_question', 'confidence': 0.9999997615814209} parse_data_text=Who is the winner of National Inventors Hall of Fame?\n",
      "{'text': 'Who is the winner of National Inventors Hall of Fame?', 'intent': {'name': 'who_question', 'confidence': 0.9999997615814209}, 'entities': [], 'text_tokens': [(0, 3), (4, 6), (7, 10), (11, 17), (18, 20), (21, 29), (30, 39), (40, 44), (45, 47), (48, 52), (52, 53)], 'intent_ranking': [{'name': 'who_question', 'confidence': 0.9999997615814209}, {'name': 'when_question', 'confidence': 1.5940197783947951e-07}, {'name': 'what_question', 'confidence': 1.2824762052332517e-07}, {'name': 'where_question', 'confidence': 2.9172015914014082e-08}]}\n"
     ]
    },
    {
     "data": {
      "text/html": [
       "<span class=\"tex2jax_ignore\"><div class=\"entities\" style=\"line-height: 2.5; direction: ltr\">Who is the winner of \n",
       "<mark class=\"entity\" style=\"background: #7aecec; padding: 0.45em 0.6em; margin: 0 0.25em; line-height: 1; border-radius: 0.35em;\">\n",
       "    National Inventors Hall of Fame\n",
       "    <span style=\"font-size: 0.8em; font-weight: bold; line-height: 1; border-radius: 0.35em; vertical-align: middle; margin-left: 0.5rem\">ORG</span>\n",
       "</mark>\n",
       "?</div></span>"
      ],
      "text/plain": [
       "<IPython.core.display.HTML object>"
      ]
     },
     "metadata": {},
     "output_type": "display_data"
    },
    {
     "name": "stdout",
     "output_type": "stream",
     "text": [
      "\n",
      "\n",
      "Question:  Who is the winner of National Inventors Hall of Fame?\n",
      "\n",
      "Answer:\n",
      " Ray Kurzweil\n"
     ]
    }
   ],
   "source": [
    "question = \"Who is the winner of National Inventors Hall of Fame?\"\n",
    "await get_answer(question)"
   ]
  },
  {
   "cell_type": "code",
   "execution_count": 468,
   "metadata": {},
   "outputs": [
    {
     "name": "stdout",
     "output_type": "stream",
     "text": [
      "2023-12-08 13:59:52 [debug    ] graph.node.running_component   clazz=NLUMessageConverter fn=convert_user_message node_name=nlu_message_converter\n",
      "2023-12-08 13:59:52 [debug    ] graph.node.running_component   clazz=SpacyNLP fn=provide node_name=provide_SpacyNLP0\n",
      "2023-12-08 13:59:52 [debug    ] graph.node.running_component   clazz=SpacyNLP fn=process node_name=run_SpacyNLP0\n",
      "2023-12-08 13:59:52 [debug    ] graph.node.running_component   clazz=SpacyTokenizer fn=process node_name=run_SpacyTokenizer1\n",
      "2023-12-08 13:59:52 [debug    ] graph.node.running_component   clazz=SpacyEntityExtractor fn=process node_name=run_SpacyEntityExtractor2\n",
      "2023-12-08 13:59:52 [debug    ] graph.node.running_component   clazz=SpacyFeaturizer fn=process node_name=run_SpacyFeaturizer3\n",
      "2023-12-08 13:59:52 [debug    ] graph.node.running_component   clazz=CountVectorsFeaturizer fn=process node_name=run_CountVectorsFeaturizer4\n",
      "2023-12-08 13:59:52 [debug    ] graph.node.running_component   clazz=DIETClassifier fn=process node_name=run_DIETClassifier5\n",
      "2023-12-08 13:59:53 [debug    ] graph.node.running_component   clazz=RegexMessageHandler fn=process node_name=run_RegexMessageHandler\n",
      "2023-12-08 13:59:53 [debug    ] processor.message.parse        parse_data_entities=[{'entity': 'PERSON', 'value': 'Ray Kurzweil', 'start': 21, 'confidence': None, 'end': 33, 'extractor': 'SpacyEntityExtractor'}] parse_data_intent={'name': 'who_question', 'confidence': 0.9999998807907104} parse_data_text=Who is the family of Ray Kurzweil?\n",
      "{'text': 'Who is the family of Ray Kurzweil?', 'intent': {'name': 'who_question', 'confidence': 0.9999998807907104}, 'entities': [{'entity': 'PERSON', 'value': 'Ray Kurzweil', 'start': 21, 'confidence': None, 'end': 33, 'extractor': 'SpacyEntityExtractor'}], 'text_tokens': [(0, 3), (4, 6), (7, 10), (11, 17), (18, 20), (21, 24), (25, 33), (33, 34)], 'intent_ranking': [{'name': 'who_question', 'confidence': 0.9999998807907104}, {'name': 'what_question', 'confidence': 5.103332867406607e-08}, {'name': 'when_question', 'confidence': 1.2574567165302142e-08}, {'name': 'where_question', 'confidence': 1.1179828618423926e-08}]}\n"
     ]
    },
    {
     "data": {
      "text/html": [
       "<span class=\"tex2jax_ignore\"><div class=\"entities\" style=\"line-height: 2.5; direction: ltr\">Who is the family of \n",
       "<mark class=\"entity\" style=\"background: #aa9cfc; padding: 0.45em 0.6em; margin: 0 0.25em; line-height: 1; border-radius: 0.35em;\">\n",
       "    Ray Kurzweil\n",
       "    <span style=\"font-size: 0.8em; font-weight: bold; line-height: 1; border-radius: 0.35em; vertical-align: middle; margin-left: 0.5rem\">PERSON</span>\n",
       "</mark>\n",
       "?</div></span>"
      ],
      "text/plain": [
       "<IPython.core.display.HTML object>"
      ]
     },
     "metadata": {},
     "output_type": "display_data"
    },
    {
     "name": "stdout",
     "output_type": "stream",
     "text": [
      "\n",
      "\n",
      "Question:  Who is the family of Ray Kurzweil?\n",
      "\n",
      "Answer:\n",
      " Fredric*\n"
     ]
    }
   ],
   "source": [
    "question = \"Who is the family of Ray Kurzweil?\"\n",
    "await get_answer(question)"
   ]
  },
  {
   "cell_type": "code",
   "execution_count": 469,
   "metadata": {},
   "outputs": [
    {
     "name": "stdout",
     "output_type": "stream",
     "text": [
      "2023-12-08 13:59:54 [debug    ] graph.node.running_component   clazz=NLUMessageConverter fn=convert_user_message node_name=nlu_message_converter\n",
      "2023-12-08 13:59:54 [debug    ] graph.node.running_component   clazz=SpacyNLP fn=provide node_name=provide_SpacyNLP0\n",
      "2023-12-08 13:59:54 [debug    ] graph.node.running_component   clazz=SpacyNLP fn=process node_name=run_SpacyNLP0\n",
      "2023-12-08 13:59:54 [debug    ] graph.node.running_component   clazz=SpacyTokenizer fn=process node_name=run_SpacyTokenizer1\n",
      "2023-12-08 13:59:54 [debug    ] graph.node.running_component   clazz=SpacyEntityExtractor fn=process node_name=run_SpacyEntityExtractor2\n",
      "2023-12-08 13:59:54 [debug    ] graph.node.running_component   clazz=SpacyFeaturizer fn=process node_name=run_SpacyFeaturizer3\n",
      "2023-12-08 13:59:54 [debug    ] graph.node.running_component   clazz=CountVectorsFeaturizer fn=process node_name=run_CountVectorsFeaturizer4\n",
      "2023-12-08 13:59:54 [debug    ] graph.node.running_component   clazz=DIETClassifier fn=process node_name=run_DIETClassifier5\n",
      "2023-12-08 13:59:54 [debug    ] graph.node.running_component   clazz=RegexMessageHandler fn=process node_name=run_RegexMessageHandler\n",
      "2023-12-08 13:59:54 [debug    ] processor.message.parse        parse_data_entities=[{'entity': 'PERSON', 'value': 'Ray Kurzweil', 'start': 24, 'confidence': None, 'end': 36, 'extractor': 'SpacyEntityExtractor'}] parse_data_intent={'name': 'who_question', 'confidence': 0.9999997615814209} parse_data_text=Tell me the siblings of Ray Kurzweil.\n",
      "{'text': 'Tell me the siblings of Ray Kurzweil.', 'intent': {'name': 'who_question', 'confidence': 0.9999997615814209}, 'entities': [{'entity': 'PERSON', 'value': 'Ray Kurzweil', 'start': 24, 'confidence': None, 'end': 36, 'extractor': 'SpacyEntityExtractor'}], 'text_tokens': [(0, 4), (5, 7), (8, 11), (12, 20), (21, 23), (24, 27), (28, 36), (36, 37)], 'intent_ranking': [{'name': 'who_question', 'confidence': 0.9999997615814209}, {'name': 'what_question', 'confidence': 2.3085648592768848e-07}, {'name': 'when_question', 'confidence': 2.395042919545176e-08}, {'name': 'where_question', 'confidence': 9.764116626342911e-09}]}\n"
     ]
    },
    {
     "data": {
      "text/html": [
       "<span class=\"tex2jax_ignore\"><div class=\"entities\" style=\"line-height: 2.5; direction: ltr\">Tell me the siblings of \n",
       "<mark class=\"entity\" style=\"background: #aa9cfc; padding: 0.45em 0.6em; margin: 0 0.25em; line-height: 1; border-radius: 0.35em;\">\n",
       "    Ray Kurzweil\n",
       "    <span style=\"font-size: 0.8em; font-weight: bold; line-height: 1; border-radius: 0.35em; vertical-align: middle; margin-left: 0.5rem\">PERSON</span>\n",
       "</mark>\n",
       ".</div></span>"
      ],
      "text/plain": [
       "<IPython.core.display.HTML object>"
      ]
     },
     "metadata": {},
     "output_type": "display_data"
    },
    {
     "name": "stdout",
     "output_type": "stream",
     "text": [
      "\n",
      "\n",
      "Question:  Tell me the siblings of Ray Kurzweil.\n",
      "\n",
      "Answer:\n",
      " Enid*\n"
     ]
    }
   ],
   "source": [
    "question = \"Tell me the siblings of Ray Kurzweil.\"\n",
    "await get_answer(question)"
   ]
  },
  {
   "cell_type": "code",
   "execution_count": 473,
   "metadata": {},
   "outputs": [
    {
     "name": "stdout",
     "output_type": "stream",
     "text": [
      "2023-12-08 14:00:17 [debug    ] graph.node.running_component   clazz=NLUMessageConverter fn=convert_user_message node_name=nlu_message_converter\n",
      "2023-12-08 14:00:17 [debug    ] graph.node.running_component   clazz=SpacyNLP fn=provide node_name=provide_SpacyNLP0\n",
      "2023-12-08 14:00:17 [debug    ] graph.node.running_component   clazz=SpacyNLP fn=process node_name=run_SpacyNLP0\n",
      "2023-12-08 14:00:17 [debug    ] graph.node.running_component   clazz=SpacyTokenizer fn=process node_name=run_SpacyTokenizer1\n",
      "2023-12-08 14:00:17 [debug    ] graph.node.running_component   clazz=SpacyEntityExtractor fn=process node_name=run_SpacyEntityExtractor2\n",
      "2023-12-08 14:00:17 [debug    ] graph.node.running_component   clazz=SpacyFeaturizer fn=process node_name=run_SpacyFeaturizer3\n",
      "2023-12-08 14:00:17 [debug    ] graph.node.running_component   clazz=CountVectorsFeaturizer fn=process node_name=run_CountVectorsFeaturizer4\n",
      "2023-12-08 14:00:17 [debug    ] graph.node.running_component   clazz=DIETClassifier fn=process node_name=run_DIETClassifier5\n",
      "2023-12-08 14:00:18 [debug    ] graph.node.running_component   clazz=RegexMessageHandler fn=process node_name=run_RegexMessageHandler\n",
      "2023-12-08 14:00:18 [debug    ] processor.message.parse        parse_data_entities=[{'entity': 'PERSON', 'value': 'Ray Kurzweil', 'start': 10, 'confidence': None, 'end': 22, 'extractor': 'SpacyEntityExtractor'}] parse_data_intent={'name': 'where_question', 'confidence': 0.9999850988388062} parse_data_text=Where did Ray Kurzweil attended his college?\n",
      "{'text': 'Where did Ray Kurzweil attended his college?', 'intent': {'name': 'where_question', 'confidence': 0.9999850988388062}, 'entities': [{'entity': 'PERSON', 'value': 'Ray Kurzweil', 'start': 10, 'confidence': None, 'end': 22, 'extractor': 'SpacyEntityExtractor'}], 'text_tokens': [(0, 5), (6, 9), (10, 13), (14, 22), (23, 31), (32, 35), (36, 43), (43, 44)], 'intent_ranking': [{'name': 'where_question', 'confidence': 0.9999850988388062}, {'name': 'when_question', 'confidence': 7.120633654267294e-06}, {'name': 'who_question', 'confidence': 6.96924280418898e-06}, {'name': 'what_question', 'confidence': 8.760052310208266e-07}]}\n"
     ]
    },
    {
     "data": {
      "text/html": [
       "<span class=\"tex2jax_ignore\"><div class=\"entities\" style=\"line-height: 2.5; direction: ltr\">Where did \n",
       "<mark class=\"entity\" style=\"background: #aa9cfc; padding: 0.45em 0.6em; margin: 0 0.25em; line-height: 1; border-radius: 0.35em;\">\n",
       "    Ray Kurzweil\n",
       "    <span style=\"font-size: 0.8em; font-weight: bold; line-height: 1; border-radius: 0.35em; vertical-align: middle; margin-left: 0.5rem\">PERSON</span>\n",
       "</mark>\n",
       " attended his college?</div></span>"
      ],
      "text/plain": [
       "<IPython.core.display.HTML object>"
      ]
     },
     "metadata": {},
     "output_type": "display_data"
    },
    {
     "name": "stdout",
     "output_type": "stream",
     "text": [
      "\n",
      "\n",
      "Question:  Where did Ray Kurzweil attended his college?\n",
      "\n",
      "Answer:\n",
      " Rensselaer Polytechnic Institute\n",
      "Stanford University\n",
      "Yale University\n",
      "Massachusetts Institute of Technology\n",
      "Hofstra University\n",
      "Berklee College of Music\n"
     ]
    }
   ],
   "source": [
    "question = \"Where did Ray Kurzweil attended his college?\"\n",
    "await get_answer(question)"
   ]
  },
  {
   "cell_type": "code",
   "execution_count": 474,
   "metadata": {},
   "outputs": [
    {
     "name": "stdout",
     "output_type": "stream",
     "text": [
      "2023-12-08 14:00:20 [debug    ] graph.node.running_component   clazz=NLUMessageConverter fn=convert_user_message node_name=nlu_message_converter\n",
      "2023-12-08 14:00:20 [debug    ] graph.node.running_component   clazz=SpacyNLP fn=provide node_name=provide_SpacyNLP0\n",
      "2023-12-08 14:00:20 [debug    ] graph.node.running_component   clazz=SpacyNLP fn=process node_name=run_SpacyNLP0\n",
      "2023-12-08 14:00:20 [debug    ] graph.node.running_component   clazz=SpacyTokenizer fn=process node_name=run_SpacyTokenizer1\n",
      "2023-12-08 14:00:20 [debug    ] graph.node.running_component   clazz=SpacyEntityExtractor fn=process node_name=run_SpacyEntityExtractor2\n",
      "2023-12-08 14:00:21 [debug    ] graph.node.running_component   clazz=SpacyFeaturizer fn=process node_name=run_SpacyFeaturizer3\n",
      "2023-12-08 14:00:21 [debug    ] graph.node.running_component   clazz=CountVectorsFeaturizer fn=process node_name=run_CountVectorsFeaturizer4\n",
      "2023-12-08 14:00:21 [debug    ] graph.node.running_component   clazz=DIETClassifier fn=process node_name=run_DIETClassifier5\n",
      "2023-12-08 14:00:21 [debug    ] graph.node.running_component   clazz=RegexMessageHandler fn=process node_name=run_RegexMessageHandler\n",
      "2023-12-08 14:00:21 [debug    ] processor.message.parse        parse_data_entities=[] parse_data_intent={'name': 'where_question', 'confidence': 0.9999945163726807} parse_data_text=Where is Stanford University located at?\n",
      "{'text': 'Where is Stanford University located at?', 'intent': {'name': 'where_question', 'confidence': 0.9999945163726807}, 'entities': [], 'text_tokens': [(0, 5), (6, 8), (9, 17), (18, 28), (29, 36), (37, 39), (39, 40)], 'intent_ranking': [{'name': 'where_question', 'confidence': 0.9999945163726807}, {'name': 'when_question', 'confidence': 5.1648958105943166e-06}, {'name': 'who_question', 'confidence': 2.529471885281964e-07}, {'name': 'what_question', 'confidence': 1.73604675524075e-07}]}\n"
     ]
    },
    {
     "data": {
      "text/html": [
       "<span class=\"tex2jax_ignore\"><div class=\"entities\" style=\"line-height: 2.5; direction: ltr\">Where is \n",
       "<mark class=\"entity\" style=\"background: #7aecec; padding: 0.45em 0.6em; margin: 0 0.25em; line-height: 1; border-radius: 0.35em;\">\n",
       "    Stanford University\n",
       "    <span style=\"font-size: 0.8em; font-weight: bold; line-height: 1; border-radius: 0.35em; vertical-align: middle; margin-left: 0.5rem\">ORG</span>\n",
       "</mark>\n",
       " located at?</div></span>"
      ],
      "text/plain": [
       "<IPython.core.display.HTML object>"
      ]
     },
     "metadata": {},
     "output_type": "display_data"
    },
    {
     "name": "stdout",
     "output_type": "stream",
     "text": [
      "\n",
      "\n",
      "Question:  Where is Stanford University located at?\n",
      "\n",
      "Answer:\n",
      " Palo Alto, California\n"
     ]
    }
   ],
   "source": [
    "question = \"Where is Stanford University located at?\"\n",
    "await get_answer(question)"
   ]
  },
  {
   "cell_type": "code",
   "execution_count": 475,
   "metadata": {},
   "outputs": [
    {
     "name": "stdout",
     "output_type": "stream",
     "text": [
      "2023-12-08 14:00:23 [debug    ] graph.node.running_component   clazz=NLUMessageConverter fn=convert_user_message node_name=nlu_message_converter\n",
      "2023-12-08 14:00:23 [debug    ] graph.node.running_component   clazz=SpacyNLP fn=provide node_name=provide_SpacyNLP0\n",
      "2023-12-08 14:00:23 [debug    ] graph.node.running_component   clazz=SpacyNLP fn=process node_name=run_SpacyNLP0\n",
      "2023-12-08 14:00:23 [debug    ] graph.node.running_component   clazz=SpacyTokenizer fn=process node_name=run_SpacyTokenizer1\n",
      "2023-12-08 14:00:23 [debug    ] graph.node.running_component   clazz=SpacyEntityExtractor fn=process node_name=run_SpacyEntityExtractor2\n",
      "2023-12-08 14:00:23 [debug    ] graph.node.running_component   clazz=SpacyFeaturizer fn=process node_name=run_SpacyFeaturizer3\n",
      "2023-12-08 14:00:23 [debug    ] graph.node.running_component   clazz=CountVectorsFeaturizer fn=process node_name=run_CountVectorsFeaturizer4\n",
      "2023-12-08 14:00:23 [debug    ] graph.node.running_component   clazz=DIETClassifier fn=process node_name=run_DIETClassifier5\n",
      "2023-12-08 14:00:23 [debug    ] graph.node.running_component   clazz=RegexMessageHandler fn=process node_name=run_RegexMessageHandler\n",
      "2023-12-08 14:00:23 [debug    ] processor.message.parse        parse_data_entities=[{'entity': 'PERSON', 'value': 'Frank Rosenblatt', 'start': 9, 'confidence': None, 'end': 25, 'extractor': 'SpacyEntityExtractor'}] parse_data_intent={'name': 'where_question', 'confidence': 0.9999831914901733} parse_data_text=Where is Frank Rosenblatt educated at?\n",
      "{'text': 'Where is Frank Rosenblatt educated at?', 'intent': {'name': 'where_question', 'confidence': 0.9999831914901733}, 'entities': [{'entity': 'PERSON', 'value': 'Frank Rosenblatt', 'start': 9, 'confidence': None, 'end': 25, 'extractor': 'SpacyEntityExtractor'}], 'text_tokens': [(0, 5), (6, 8), (9, 14), (15, 25), (26, 34), (35, 37), (37, 38)], 'intent_ranking': [{'name': 'where_question', 'confidence': 0.9999831914901733}, {'name': 'when_question', 'confidence': 1.4803837075305637e-05}, {'name': 'what_question', 'confidence': 1.6848333643793012e-06}, {'name': 'who_question', 'confidence': 3.1923724463922554e-07}]}\n"
     ]
    },
    {
     "data": {
      "text/html": [
       "<span class=\"tex2jax_ignore\"><div class=\"entities\" style=\"line-height: 2.5; direction: ltr\">Where is \n",
       "<mark class=\"entity\" style=\"background: #aa9cfc; padding: 0.45em 0.6em; margin: 0 0.25em; line-height: 1; border-radius: 0.35em;\">\n",
       "    Frank Rosenblatt\n",
       "    <span style=\"font-size: 0.8em; font-weight: bold; line-height: 1; border-radius: 0.35em; vertical-align: middle; margin-left: 0.5rem\">PERSON</span>\n",
       "</mark>\n",
       " educated at?</div></span>"
      ],
      "text/plain": [
       "<IPython.core.display.HTML object>"
      ]
     },
     "metadata": {},
     "output_type": "display_data"
    },
    {
     "name": "stdout",
     "output_type": "stream",
     "text": [
      "\n",
      "\n",
      "Question:  Where is Frank Rosenblatt educated at?\n",
      "\n",
      "Answer:\n",
      " Cornell University\n"
     ]
    }
   ],
   "source": [
    "question = \"Where is Frank Rosenblatt educated at?\"\n",
    "await get_answer(question)"
   ]
  },
  {
   "cell_type": "code",
   "execution_count": 476,
   "metadata": {},
   "outputs": [
    {
     "name": "stdout",
     "output_type": "stream",
     "text": [
      "2023-12-08 14:00:25 [debug    ] graph.node.running_component   clazz=NLUMessageConverter fn=convert_user_message node_name=nlu_message_converter\n",
      "2023-12-08 14:00:25 [debug    ] graph.node.running_component   clazz=SpacyNLP fn=provide node_name=provide_SpacyNLP0\n",
      "2023-12-08 14:00:25 [debug    ] graph.node.running_component   clazz=SpacyNLP fn=process node_name=run_SpacyNLP0\n",
      "2023-12-08 14:00:25 [debug    ] graph.node.running_component   clazz=SpacyTokenizer fn=process node_name=run_SpacyTokenizer1\n",
      "2023-12-08 14:00:25 [debug    ] graph.node.running_component   clazz=SpacyEntityExtractor fn=process node_name=run_SpacyEntityExtractor2\n",
      "2023-12-08 14:00:25 [debug    ] graph.node.running_component   clazz=SpacyFeaturizer fn=process node_name=run_SpacyFeaturizer3\n",
      "2023-12-08 14:00:25 [debug    ] graph.node.running_component   clazz=CountVectorsFeaturizer fn=process node_name=run_CountVectorsFeaturizer4\n",
      "2023-12-08 14:00:25 [debug    ] graph.node.running_component   clazz=DIETClassifier fn=process node_name=run_DIETClassifier5\n",
      "2023-12-08 14:00:25 [debug    ] graph.node.running_component   clazz=RegexMessageHandler fn=process node_name=run_RegexMessageHandler\n",
      "2023-12-08 14:00:25 [debug    ] processor.message.parse        parse_data_entities=[{'entity': 'PERSON', 'value': 'Ray Kurzweil', 'start': 15, 'confidence': None, 'end': 27, 'extractor': 'SpacyEntityExtractor'}] parse_data_intent={'name': 'what_question', 'confidence': 0.9999998807907104} parse_data_text=What award did Ray Kurzweil awarded\n",
      "{'text': 'What award did Ray Kurzweil awarded', 'intent': {'name': 'what_question', 'confidence': 0.9999998807907104}, 'entities': [{'entity': 'PERSON', 'value': 'Ray Kurzweil', 'start': 15, 'confidence': None, 'end': 27, 'extractor': 'SpacyEntityExtractor'}], 'text_tokens': [(0, 4), (5, 10), (11, 14), (15, 18), (19, 27), (28, 35)], 'intent_ranking': [{'name': 'what_question', 'confidence': 0.9999998807907104}, {'name': 'who_question', 'confidence': 7.568682036662722e-08}, {'name': 'where_question', 'confidence': 1.2562126450177402e-08}, {'name': 'when_question', 'confidence': 1.2197404197777928e-09}]}\n"
     ]
    },
    {
     "data": {
      "text/html": [
       "<span class=\"tex2jax_ignore\"><div class=\"entities\" style=\"line-height: 2.5; direction: ltr\">What award did \n",
       "<mark class=\"entity\" style=\"background: #aa9cfc; padding: 0.45em 0.6em; margin: 0 0.25em; line-height: 1; border-radius: 0.35em;\">\n",
       "    Ray Kurzweil\n",
       "    <span style=\"font-size: 0.8em; font-weight: bold; line-height: 1; border-radius: 0.35em; vertical-align: middle; margin-left: 0.5rem\">PERSON</span>\n",
       "</mark>\n",
       " awarded</div></span>"
      ],
      "text/plain": [
       "<IPython.core.display.HTML object>"
      ]
     },
     "metadata": {},
     "output_type": "display_data"
    },
    {
     "name": "stdout",
     "output_type": "stream",
     "text": [
      "\n",
      "\n",
      "Question:  What award did Ray Kurzweil awarded\n",
      "\n",
      "Answer:\n",
      " 20 honorary doctorates*\n",
      "National Medal of Technology and Innovation\n",
      "Lemelson–MIT Prize\n",
      "National Inventors Hall of Fame\n",
      "Dickson Prize\n"
     ]
    }
   ],
   "source": [
    "question = \"What award did Ray Kurzweil awarded\"\n",
    "await get_answer(question)"
   ]
  },
  {
   "cell_type": "code",
   "execution_count": 477,
   "metadata": {},
   "outputs": [
    {
     "name": "stdout",
     "output_type": "stream",
     "text": [
      "2023-12-08 14:00:27 [debug    ] graph.node.running_component   clazz=NLUMessageConverter fn=convert_user_message node_name=nlu_message_converter\n",
      "2023-12-08 14:00:27 [debug    ] graph.node.running_component   clazz=SpacyNLP fn=provide node_name=provide_SpacyNLP0\n",
      "2023-12-08 14:00:27 [debug    ] graph.node.running_component   clazz=SpacyNLP fn=process node_name=run_SpacyNLP0\n",
      "2023-12-08 14:00:28 [debug    ] graph.node.running_component   clazz=SpacyTokenizer fn=process node_name=run_SpacyTokenizer1\n",
      "2023-12-08 14:00:28 [debug    ] graph.node.running_component   clazz=SpacyEntityExtractor fn=process node_name=run_SpacyEntityExtractor2\n",
      "2023-12-08 14:00:28 [debug    ] graph.node.running_component   clazz=SpacyFeaturizer fn=process node_name=run_SpacyFeaturizer3\n",
      "2023-12-08 14:00:28 [debug    ] graph.node.running_component   clazz=CountVectorsFeaturizer fn=process node_name=run_CountVectorsFeaturizer4\n",
      "2023-12-08 14:00:28 [debug    ] graph.node.running_component   clazz=DIETClassifier fn=process node_name=run_DIETClassifier5\n",
      "2023-12-08 14:00:28 [debug    ] graph.node.running_component   clazz=RegexMessageHandler fn=process node_name=run_RegexMessageHandler\n",
      "2023-12-08 14:00:28 [debug    ] processor.message.parse        parse_data_entities=[{'entity': 'PERSON', 'value': 'Ray Kurzweil', 'start': 26, 'confidence': None, 'end': 38, 'extractor': 'SpacyEntityExtractor'}] parse_data_intent={'name': 'what_question', 'confidence': 1.0} parse_data_text=What is the occupation of Ray Kurzweil\n",
      "{'text': 'What is the occupation of Ray Kurzweil', 'intent': {'name': 'what_question', 'confidence': 1.0}, 'entities': [{'entity': 'PERSON', 'value': 'Ray Kurzweil', 'start': 26, 'confidence': None, 'end': 38, 'extractor': 'SpacyEntityExtractor'}], 'text_tokens': [(0, 4), (5, 7), (8, 11), (12, 22), (23, 25), (26, 29), (30, 38)], 'intent_ranking': [{'name': 'what_question', 'confidence': 1.0}, {'name': 'who_question', 'confidence': 1.4221593680474598e-08}, {'name': 'where_question', 'confidence': 3.6314222739974866e-09}, {'name': 'when_question', 'confidence': 3.0322924171599652e-09}]}\n"
     ]
    },
    {
     "data": {
      "text/html": [
       "<span class=\"tex2jax_ignore\"><div class=\"entities\" style=\"line-height: 2.5; direction: ltr\">What is the occupation of \n",
       "<mark class=\"entity\" style=\"background: #aa9cfc; padding: 0.45em 0.6em; margin: 0 0.25em; line-height: 1; border-radius: 0.35em;\">\n",
       "    Ray Kurzweil\n",
       "    <span style=\"font-size: 0.8em; font-weight: bold; line-height: 1; border-radius: 0.35em; vertical-align: middle; margin-left: 0.5rem\">PERSON</span>\n",
       "</mark>\n",
       "</div></span>"
      ],
      "text/plain": [
       "<IPython.core.display.HTML object>"
      ]
     },
     "metadata": {},
     "output_type": "display_data"
    },
    {
     "name": "stdout",
     "output_type": "stream",
     "text": [
      "\n",
      "\n",
      "Question:  What is the occupation of Ray Kurzweil\n",
      "\n",
      "Answer:\n",
      " Computer scientist\n"
     ]
    }
   ],
   "source": [
    "question = \"What is the occupation of Ray Kurzweil\"\n",
    "await get_answer(question)"
   ]
  },
  {
   "cell_type": "code",
   "execution_count": 478,
   "metadata": {},
   "outputs": [
    {
     "name": "stdout",
     "output_type": "stream",
     "text": [
      "2023-12-08 14:00:31 [debug    ] graph.node.running_component   clazz=NLUMessageConverter fn=convert_user_message node_name=nlu_message_converter\n",
      "2023-12-08 14:00:31 [debug    ] graph.node.running_component   clazz=SpacyNLP fn=provide node_name=provide_SpacyNLP0\n",
      "2023-12-08 14:00:31 [debug    ] graph.node.running_component   clazz=SpacyNLP fn=process node_name=run_SpacyNLP0\n",
      "2023-12-08 14:00:31 [debug    ] graph.node.running_component   clazz=SpacyTokenizer fn=process node_name=run_SpacyTokenizer1\n",
      "2023-12-08 14:00:31 [debug    ] graph.node.running_component   clazz=SpacyEntityExtractor fn=process node_name=run_SpacyEntityExtractor2\n",
      "2023-12-08 14:00:31 [debug    ] graph.node.running_component   clazz=SpacyFeaturizer fn=process node_name=run_SpacyFeaturizer3\n",
      "2023-12-08 14:00:31 [debug    ] graph.node.running_component   clazz=CountVectorsFeaturizer fn=process node_name=run_CountVectorsFeaturizer4\n",
      "2023-12-08 14:00:31 [debug    ] graph.node.running_component   clazz=DIETClassifier fn=process node_name=run_DIETClassifier5\n",
      "2023-12-08 14:00:31 [debug    ] graph.node.running_component   clazz=RegexMessageHandler fn=process node_name=run_RegexMessageHandler\n",
      "2023-12-08 14:00:31 [debug    ] processor.message.parse        parse_data_entities=[{'entity': 'PERSON', 'value': 'Theodore Modis', 'start': 12, 'confidence': None, 'end': 26, 'extractor': 'SpacyEntityExtractor'}] parse_data_intent={'name': 'what_question', 'confidence': 0.9999916553497314} parse_data_text=What job is Theodore Modis worked as?\n",
      "{'text': 'What job is Theodore Modis worked as?', 'intent': {'name': 'what_question', 'confidence': 0.9999916553497314}, 'entities': [{'entity': 'PERSON', 'value': 'Theodore Modis', 'start': 12, 'confidence': None, 'end': 26, 'extractor': 'SpacyEntityExtractor'}], 'text_tokens': [(0, 4), (5, 8), (9, 11), (12, 20), (21, 26), (27, 33), (34, 36), (36, 37)], 'intent_ranking': [{'name': 'what_question', 'confidence': 0.9999916553497314}, {'name': 'where_question', 'confidence': 6.8653503149107564e-06}, {'name': 'who_question', 'confidence': 1.0069766176457051e-06}, {'name': 'when_question', 'confidence': 4.2032471014863404e-07}]}\n"
     ]
    },
    {
     "data": {
      "text/html": [
       "<span class=\"tex2jax_ignore\"><div class=\"entities\" style=\"line-height: 2.5; direction: ltr\">What job is \n",
       "<mark class=\"entity\" style=\"background: #aa9cfc; padding: 0.45em 0.6em; margin: 0 0.25em; line-height: 1; border-radius: 0.35em;\">\n",
       "    Theodore Modis\n",
       "    <span style=\"font-size: 0.8em; font-weight: bold; line-height: 1; border-radius: 0.35em; vertical-align: middle; margin-left: 0.5rem\">PERSON</span>\n",
       "</mark>\n",
       " worked as?</div></span>"
      ],
      "text/plain": [
       "<IPython.core.display.HTML object>"
      ]
     },
     "metadata": {},
     "output_type": "display_data"
    },
    {
     "name": "stdout",
     "output_type": "stream",
     "text": [
      "\n",
      "\n",
      "Question:  What job is Theodore Modis worked as?\n",
      "\n",
      "Answer:\n",
      " Futurist\n"
     ]
    }
   ],
   "source": [
    "question = \"What job is Theodore Modis worked as?\"\n",
    "await get_answer(question)"
   ]
  },
  {
   "cell_type": "code",
   "execution_count": 479,
   "metadata": {},
   "outputs": [
    {
     "name": "stdout",
     "output_type": "stream",
     "text": [
      "2023-12-08 14:00:33 [debug    ] graph.node.running_component   clazz=NLUMessageConverter fn=convert_user_message node_name=nlu_message_converter\n",
      "2023-12-08 14:00:33 [debug    ] graph.node.running_component   clazz=SpacyNLP fn=provide node_name=provide_SpacyNLP0\n",
      "2023-12-08 14:00:33 [debug    ] graph.node.running_component   clazz=SpacyNLP fn=process node_name=run_SpacyNLP0\n",
      "2023-12-08 14:00:33 [debug    ] graph.node.running_component   clazz=SpacyTokenizer fn=process node_name=run_SpacyTokenizer1\n",
      "2023-12-08 14:00:33 [debug    ] graph.node.running_component   clazz=SpacyEntityExtractor fn=process node_name=run_SpacyEntityExtractor2\n",
      "2023-12-08 14:00:33 [debug    ] graph.node.running_component   clazz=SpacyFeaturizer fn=process node_name=run_SpacyFeaturizer3\n",
      "2023-12-08 14:00:33 [debug    ] graph.node.running_component   clazz=CountVectorsFeaturizer fn=process node_name=run_CountVectorsFeaturizer4\n",
      "2023-12-08 14:00:33 [debug    ] graph.node.running_component   clazz=DIETClassifier fn=process node_name=run_DIETClassifier5\n",
      "2023-12-08 14:00:33 [debug    ] graph.node.running_component   clazz=RegexMessageHandler fn=process node_name=run_RegexMessageHandler\n",
      "2023-12-08 14:00:33 [debug    ] processor.message.parse        parse_data_entities=[{'entity': 'PERSON', 'value': 'Daniel Dennett', 'start': 13, 'confidence': None, 'end': 27, 'extractor': 'SpacyEntityExtractor'}] parse_data_intent={'name': 'what_question', 'confidence': 0.9999504089355469} parse_data_text=What work is Daniel Dennett doing?\n",
      "{'text': 'What work is Daniel Dennett doing?', 'intent': {'name': 'what_question', 'confidence': 0.9999504089355469}, 'entities': [{'entity': 'PERSON', 'value': 'Daniel Dennett', 'start': 13, 'confidence': None, 'end': 27, 'extractor': 'SpacyEntityExtractor'}], 'text_tokens': [(0, 4), (5, 9), (10, 12), (13, 19), (20, 27), (28, 33), (33, 34)], 'intent_ranking': [{'name': 'what_question', 'confidence': 0.9999504089355469}, {'name': 'where_question', 'confidence': 4.3020412704208866e-05}, {'name': 'when_question', 'confidence': 6.1101113715267275e-06}, {'name': 'who_question', 'confidence': 4.861869911110261e-07}]}\n"
     ]
    },
    {
     "data": {
      "text/html": [
       "<span class=\"tex2jax_ignore\"><div class=\"entities\" style=\"line-height: 2.5; direction: ltr\">What work is \n",
       "<mark class=\"entity\" style=\"background: #aa9cfc; padding: 0.45em 0.6em; margin: 0 0.25em; line-height: 1; border-radius: 0.35em;\">\n",
       "    Daniel Dennett\n",
       "    <span style=\"font-size: 0.8em; font-weight: bold; line-height: 1; border-radius: 0.35em; vertical-align: middle; margin-left: 0.5rem\">PERSON</span>\n",
       "</mark>\n",
       " doing?</div></span>"
      ],
      "text/plain": [
       "<IPython.core.display.HTML object>"
      ]
     },
     "metadata": {},
     "output_type": "display_data"
    },
    {
     "name": "stdout",
     "output_type": "stream",
     "text": [
      "\n",
      "\n",
      "Question:  What work is Daniel Dennett doing?\n",
      "\n",
      "Answer:\n",
      " Artificial intelligence\n"
     ]
    }
   ],
   "source": [
    "question = \"What work is Daniel Dennett doing?\"\n",
    "await get_answer(question)"
   ]
  },
  {
   "cell_type": "code",
   "execution_count": 480,
   "metadata": {},
   "outputs": [
    {
     "name": "stdout",
     "output_type": "stream",
     "text": [
      "2023-12-08 14:00:34 [debug    ] graph.node.running_component   clazz=NLUMessageConverter fn=convert_user_message node_name=nlu_message_converter\n",
      "2023-12-08 14:00:34 [debug    ] graph.node.running_component   clazz=SpacyNLP fn=provide node_name=provide_SpacyNLP0\n",
      "2023-12-08 14:00:34 [debug    ] graph.node.running_component   clazz=SpacyNLP fn=process node_name=run_SpacyNLP0\n",
      "2023-12-08 14:00:34 [debug    ] graph.node.running_component   clazz=SpacyTokenizer fn=process node_name=run_SpacyTokenizer1\n",
      "2023-12-08 14:00:34 [debug    ] graph.node.running_component   clazz=SpacyEntityExtractor fn=process node_name=run_SpacyEntityExtractor2\n",
      "2023-12-08 14:00:34 [debug    ] graph.node.running_component   clazz=SpacyFeaturizer fn=process node_name=run_SpacyFeaturizer3\n",
      "2023-12-08 14:00:34 [debug    ] graph.node.running_component   clazz=CountVectorsFeaturizer fn=process node_name=run_CountVectorsFeaturizer4\n",
      "2023-12-08 14:00:34 [debug    ] graph.node.running_component   clazz=DIETClassifier fn=process node_name=run_DIETClassifier5\n",
      "2023-12-08 14:00:34 [debug    ] graph.node.running_component   clazz=RegexMessageHandler fn=process node_name=run_RegexMessageHandler\n",
      "2023-12-08 14:00:34 [debug    ] processor.message.parse        parse_data_entities=[{'entity': 'PERSON', 'value': 'Ray Kurzweil', 'start': 29, 'confidence': None, 'end': 41, 'extractor': 'SpacyEntityExtractor'}] parse_data_intent={'name': 'what_question', 'confidence': 0.9999523162841797} parse_data_text=What is the field of work of Ray Kurzweil?\n",
      "{'text': 'What is the field of work of Ray Kurzweil?', 'intent': {'name': 'what_question', 'confidence': 0.9999523162841797}, 'entities': [{'entity': 'PERSON', 'value': 'Ray Kurzweil', 'start': 29, 'confidence': None, 'end': 41, 'extractor': 'SpacyEntityExtractor'}], 'text_tokens': [(0, 4), (5, 7), (8, 11), (12, 17), (18, 20), (21, 25), (26, 28), (29, 32), (33, 41), (41, 42)], 'intent_ranking': [{'name': 'what_question', 'confidence': 0.9999523162841797}, {'name': 'who_question', 'confidence': 4.2013063648482785e-05}, {'name': 'where_question', 'confidence': 5.3676653806178365e-06}, {'name': 'when_question', 'confidence': 3.4262998838130443e-07}]}\n"
     ]
    },
    {
     "data": {
      "text/html": [
       "<span class=\"tex2jax_ignore\"><div class=\"entities\" style=\"line-height: 2.5; direction: ltr\">What is the field of work of \n",
       "<mark class=\"entity\" style=\"background: #aa9cfc; padding: 0.45em 0.6em; margin: 0 0.25em; line-height: 1; border-radius: 0.35em;\">\n",
       "    Ray Kurzweil\n",
       "    <span style=\"font-size: 0.8em; font-weight: bold; line-height: 1; border-radius: 0.35em; vertical-align: middle; margin-left: 0.5rem\">PERSON</span>\n",
       "</mark>\n",
       "?</div></span>"
      ],
      "text/plain": [
       "<IPython.core.display.HTML object>"
      ]
     },
     "metadata": {},
     "output_type": "display_data"
    },
    {
     "name": "stdout",
     "output_type": "stream",
     "text": [
      "\n",
      "\n",
      "Question:  What is the field of work of Ray Kurzweil?\n",
      "\n",
      "Answer:\n",
      " Superintelligence\n"
     ]
    }
   ],
   "source": [
    "question = \"What is the field of work of Ray Kurzweil?\"\n",
    "await get_answer(question)"
   ]
  },
  {
   "cell_type": "code",
   "execution_count": 481,
   "metadata": {},
   "outputs": [
    {
     "name": "stdout",
     "output_type": "stream",
     "text": [
      "2023-12-08 14:00:36 [debug    ] graph.node.running_component   clazz=NLUMessageConverter fn=convert_user_message node_name=nlu_message_converter\n",
      "2023-12-08 14:00:36 [debug    ] graph.node.running_component   clazz=SpacyNLP fn=provide node_name=provide_SpacyNLP0\n",
      "2023-12-08 14:00:36 [debug    ] graph.node.running_component   clazz=SpacyNLP fn=process node_name=run_SpacyNLP0\n",
      "2023-12-08 14:00:36 [debug    ] graph.node.running_component   clazz=SpacyTokenizer fn=process node_name=run_SpacyTokenizer1\n",
      "2023-12-08 14:00:36 [debug    ] graph.node.running_component   clazz=SpacyEntityExtractor fn=process node_name=run_SpacyEntityExtractor2\n",
      "2023-12-08 14:00:37 [debug    ] graph.node.running_component   clazz=SpacyFeaturizer fn=process node_name=run_SpacyFeaturizer3\n",
      "2023-12-08 14:00:37 [debug    ] graph.node.running_component   clazz=CountVectorsFeaturizer fn=process node_name=run_CountVectorsFeaturizer4\n",
      "2023-12-08 14:00:37 [debug    ] graph.node.running_component   clazz=DIETClassifier fn=process node_name=run_DIETClassifier5\n",
      "2023-12-08 14:00:37 [debug    ] graph.node.running_component   clazz=RegexMessageHandler fn=process node_name=run_RegexMessageHandler\n",
      "2023-12-08 14:00:37 [debug    ] processor.message.parse        parse_data_entities=[] parse_data_intent={'name': 'when_question', 'confidence': 0.9999927282333374} parse_data_text=When is Kurzweil Educational Systems invented?\n",
      "{'text': 'When is Kurzweil Educational Systems invented?', 'intent': {'name': 'when_question', 'confidence': 0.9999927282333374}, 'entities': [], 'text_tokens': [(0, 4), (5, 7), (8, 16), (17, 28), (29, 36), (37, 45), (45, 46)], 'intent_ranking': [{'name': 'when_question', 'confidence': 0.9999927282333374}, {'name': 'where_question', 'confidence': 6.490982741524931e-06}, {'name': 'what_question', 'confidence': 6.845224334028899e-07}, {'name': 'who_question', 'confidence': 7.511074784360972e-08}]}\n"
     ]
    },
    {
     "data": {
      "text/html": [
       "<span class=\"tex2jax_ignore\"><div class=\"entities\" style=\"line-height: 2.5; direction: ltr\">When is \n",
       "<mark class=\"entity\" style=\"background: #7aecec; padding: 0.45em 0.6em; margin: 0 0.25em; line-height: 1; border-radius: 0.35em;\">\n",
       "    Kurzweil Educational Systems\n",
       "    <span style=\"font-size: 0.8em; font-weight: bold; line-height: 1; border-radius: 0.35em; vertical-align: middle; margin-left: 0.5rem\">ORG</span>\n",
       "</mark>\n",
       " invented?</div></span>"
      ],
      "text/plain": [
       "<IPython.core.display.HTML object>"
      ]
     },
     "metadata": {},
     "output_type": "display_data"
    },
    {
     "name": "stdout",
     "output_type": "stream",
     "text": [
      "\n",
      "\n",
      "Question:  When is Kurzweil Educational Systems invented?\n",
      "\n",
      "Answer:\n",
      " 1999\n"
     ]
    }
   ],
   "source": [
    "question = \"When is Kurzweil Educational Systems invented?\"\n",
    "await get_answer(question)"
   ]
  },
  {
   "cell_type": "code",
   "execution_count": 482,
   "metadata": {},
   "outputs": [
    {
     "name": "stdout",
     "output_type": "stream",
     "text": [
      "2023-12-08 14:00:42 [debug    ] graph.node.running_component   clazz=NLUMessageConverter fn=convert_user_message node_name=nlu_message_converter\n",
      "2023-12-08 14:00:42 [debug    ] graph.node.running_component   clazz=SpacyNLP fn=provide node_name=provide_SpacyNLP0\n",
      "2023-12-08 14:00:42 [debug    ] graph.node.running_component   clazz=SpacyNLP fn=process node_name=run_SpacyNLP0\n",
      "2023-12-08 14:00:42 [debug    ] graph.node.running_component   clazz=SpacyTokenizer fn=process node_name=run_SpacyTokenizer1\n",
      "2023-12-08 14:00:42 [debug    ] graph.node.running_component   clazz=SpacyEntityExtractor fn=process node_name=run_SpacyEntityExtractor2\n",
      "2023-12-08 14:00:42 [debug    ] graph.node.running_component   clazz=SpacyFeaturizer fn=process node_name=run_SpacyFeaturizer3\n",
      "2023-12-08 14:00:42 [debug    ] graph.node.running_component   clazz=CountVectorsFeaturizer fn=process node_name=run_CountVectorsFeaturizer4\n",
      "2023-12-08 14:00:42 [debug    ] graph.node.running_component   clazz=DIETClassifier fn=process node_name=run_DIETClassifier5\n",
      "2023-12-08 14:00:42 [debug    ] graph.node.running_component   clazz=RegexMessageHandler fn=process node_name=run_RegexMessageHandler\n",
      "2023-12-08 14:00:42 [debug    ] processor.message.parse        parse_data_entities=[{'entity': 'PERSON', 'value': 'Ray Kurzweil', 'start': 8, 'confidence': None, 'end': 20, 'extractor': 'SpacyEntityExtractor'}] parse_data_intent={'name': 'when_question', 'confidence': 0.9999055862426758} parse_data_text=When is Ray Kurzweil borned\n",
      "{'text': 'When is Ray Kurzweil borned', 'intent': {'name': 'when_question', 'confidence': 0.9999055862426758}, 'entities': [{'entity': 'PERSON', 'value': 'Ray Kurzweil', 'start': 8, 'confidence': None, 'end': 20, 'extractor': 'SpacyEntityExtractor'}], 'text_tokens': [(0, 4), (5, 7), (8, 11), (12, 20), (21, 27)], 'intent_ranking': [{'name': 'when_question', 'confidence': 0.9999055862426758}, {'name': 'where_question', 'confidence': 7.217230449896306e-05}, {'name': 'what_question', 'confidence': 1.340699236607179e-05}, {'name': 'who_question', 'confidence': 8.792008884483948e-06}]}\n"
     ]
    },
    {
     "data": {
      "text/html": [
       "<span class=\"tex2jax_ignore\"><div class=\"entities\" style=\"line-height: 2.5; direction: ltr\">When is \n",
       "<mark class=\"entity\" style=\"background: #aa9cfc; padding: 0.45em 0.6em; margin: 0 0.25em; line-height: 1; border-radius: 0.35em;\">\n",
       "    Ray Kurzweil\n",
       "    <span style=\"font-size: 0.8em; font-weight: bold; line-height: 1; border-radius: 0.35em; vertical-align: middle; margin-left: 0.5rem\">PERSON</span>\n",
       "</mark>\n",
       " borned</div></span>"
      ],
      "text/plain": [
       "<IPython.core.display.HTML object>"
      ]
     },
     "metadata": {},
     "output_type": "display_data"
    },
    {
     "name": "stdout",
     "output_type": "stream",
     "text": [
      "\n",
      "\n",
      "Question:  When is Ray Kurzweil borned\n",
      "\n",
      "Answer:\n",
      " February 12, 1948*\n"
     ]
    }
   ],
   "source": [
    "question = \"When is Ray Kurzweil borned\"\n",
    "await get_answer(question)"
   ]
  },
  {
   "cell_type": "code",
   "execution_count": null,
   "metadata": {},
   "outputs": [],
   "source": []
  }
 ],
 "metadata": {
  "kernelspec": {
   "display_name": "Python 3 (ipykernel)",
   "language": "python",
   "name": "python3"
  },
  "language_info": {
   "codemirror_mode": {
    "name": "ipython",
    "version": 3
   },
   "file_extension": ".py",
   "mimetype": "text/x-python",
   "name": "python",
   "nbconvert_exporter": "python",
   "pygments_lexer": "ipython3",
   "version": "3.8.18"
  }
 },
 "nbformat": 4,
 "nbformat_minor": 4
}
