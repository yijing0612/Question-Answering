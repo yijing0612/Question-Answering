{
 "cells": [
  {
   "cell_type": "markdown",
   "metadata": {},
   "source": [
    "**This notebook trained and tested the Rasa NLU Intent Classifier with self designed nlu.yml and config.yml, and the trained intent classifier is saved to be used in Question Answering (another notebook).**\n",
    "\n",
    "**This notebook also implemented entity extraction using spaCy.**"
   ]
  },
  {
   "cell_type": "code",
   "execution_count": 2,
   "metadata": {},
   "outputs": [],
   "source": [
    "import rasa\n",
    "import spacy\n",
    "from spacy.matcher import Matcher \n",
    "from spacy import displacy"
   ]
  },
  {
   "cell_type": "markdown",
   "metadata": {},
   "source": [
    "### Rasa NLU Intent Classification"
   ]
  },
  {
   "cell_type": "markdown",
   "metadata": {},
   "source": [
    "#### Train RASA NLU Intent Classifier"
   ]
  },
  {
   "cell_type": "code",
   "execution_count": 2,
   "metadata": {},
   "outputs": [
    {
     "name": "stderr",
     "output_type": "stream",
     "text": [
      "C:\\Users\\yijin\\anaconda3\\envs\\drlproject\\lib\\site-packages\\future\\standard_library\\__init__.py:65: DeprecationWarning: the imp module is deprecated in favour of importlib; see the module's documentation for alternative uses\n",
      "  import imp\n",
      "C:\\Users\\yijin\\anaconda3\\envs\\drlproject\\lib\\site-packages\\rasa\\engine\\caching.py:148: MovedIn20Warning: Deprecated API features detected! These feature(s) are not compatible with SQLAlchemy 2.0. To prevent incompatible upgrades prior to updating applications, ensure requirements files are pinned to \"sqlalchemy<2.0\". Set environment variable SQLALCHEMY_WARN_20=1 to show all deprecation warnings.  Set environment variable SQLALCHEMY_SILENCE_UBER_WARNING=1 to silence this message. (Background on SQLAlchemy 2.0 at: https://sqlalche.me/e/b8d9)\n",
      "  Base: DeclarativeMeta = declarative_base()\n"
     ]
    },
    {
     "name": "stdout",
     "output_type": "stream",
     "text": [
      "Core training was skipped because no valid domain file was found. Only an NLU-model was created. Please specify a valid domain using the '--domain' argument or check if the provided domain file exists.\n"
     ]
    },
    {
     "name": "stderr",
     "output_type": "stream",
     "text": [
      "C:\\Users\\yijin\\anaconda3\\envs\\drlproject\\lib\\site-packages\\rasa\\engine\\recipes\\recipe.py:35: FutureWarning: From Rasa Open Source 4.0.0 onwards it will be required to specify a recipe in your model configuration. Defaulting to recipe 'default.v1'.\n",
      "  rasa.shared.utils.io.raise_deprecation_warning(\n"
     ]
    },
    {
     "name": "stdout",
     "output_type": "stream",
     "text": [
      "2023-12-07 16:58:56 [debug    ] graph.node.loading_component   clazz=FingerprintComponent constructor=create kwargs={} node_name=provide_SpacyNLP0\n",
      "2023-12-07 16:58:56 [debug    ] graph.node.loading_component   clazz=FingerprintComponent constructor=create kwargs={} node_name=run_SpacyNLP0\n",
      "2023-12-07 16:58:56 [debug    ] graph.node.loading_component   clazz=FingerprintComponent constructor=create kwargs={} node_name=run_SpacyTokenizer1\n",
      "2023-12-07 16:58:56 [debug    ] graph.node.loading_component   clazz=FingerprintComponent constructor=create kwargs={} node_name=run_SpacyFeaturizer3\n",
      "2023-12-07 16:58:56 [debug    ] graph.node.loading_component   clazz=FingerprintComponent constructor=create kwargs={} node_name=train_CountVectorsFeaturizer4\n",
      "2023-12-07 16:58:56 [debug    ] graph.node.loading_component   clazz=FingerprintComponent constructor=create kwargs={} node_name=run_CountVectorsFeaturizer4\n",
      "2023-12-07 16:58:56 [debug    ] graph.node.loading_component   clazz=FingerprintComponent constructor=create kwargs={} node_name=train_DIETClassifier5\n",
      "2023-12-07 16:58:56 [debug    ] graph.node.loading_component   clazz=DefaultV1RecipeValidator constructor=create kwargs={} node_name=schema_validator\n",
      "2023-12-07 16:58:56 [debug    ] graph.node.running_component   clazz=DefaultV1RecipeValidator fn=validate node_name=schema_validator\n",
      "2023-12-07 16:58:56 [debug    ] graph.node.loading_component   clazz=FinetuningValidator constructor=create kwargs={} node_name=finetuning_validator\n",
      "2023-12-07 16:58:56 [debug    ] graph.node.running_component   clazz=FinetuningValidator fn=validate node_name=finetuning_validator\n",
      "2023-12-07 16:58:56 [debug    ] graph.node.loading_component   clazz=FlowsProvider constructor=create kwargs={} node_name=flows_provider\n",
      "2023-12-07 16:58:56 [debug    ] graph.node.running_component   clazz=FlowsProvider fn=provide_train node_name=flows_provider\n",
      "2023-12-07 16:58:56 [debug    ] graph.node.loading_component   clazz=NLUTrainingDataProvider constructor=create kwargs={} node_name=nlu_training_data_provider\n",
      "2023-12-07 16:58:56 [debug    ] graph.node.running_component   clazz=NLUTrainingDataProvider fn=provide node_name=nlu_training_data_provider\n",
      "2023-12-07 16:58:57 [debug    ] graph.node.running_component   clazz=FingerprintComponent fn=run node_name=provide_SpacyNLP0\n",
      "2023-12-07 16:58:57 [debug    ] graph.node.running_component   clazz=FingerprintComponent fn=run node_name=run_SpacyNLP0\n",
      "2023-12-07 16:58:57 [debug    ] graph.node.running_component   clazz=FingerprintComponent fn=run node_name=run_SpacyTokenizer1\n",
      "2023-12-07 16:58:57 [debug    ] graph.node.running_component   clazz=FingerprintComponent fn=run node_name=run_SpacyFeaturizer3\n",
      "2023-12-07 16:58:57 [debug    ] graph.node.running_component   clazz=FingerprintComponent fn=run node_name=train_CountVectorsFeaturizer4\n",
      "2023-12-07 16:58:57 [debug    ] graph.node.running_component   clazz=FingerprintComponent fn=run node_name=run_CountVectorsFeaturizer4\n",
      "2023-12-07 16:58:57 [debug    ] graph.node.running_component   clazz=FingerprintComponent fn=run node_name=train_DIETClassifier5\n",
      "2023-12-07 16:58:57 [debug    ] graph.node.hook.on_before_node hook_name=LoggingHook node_name=flows_provider\n",
      "2023-12-07 16:58:57 [debug    ] graph.node.hook.on_before_node hook_name=TrainingHook node_name=flows_provider\n",
      "2023-12-07 16:58:57 [debug    ] graph.node.loading_component   clazz=PrecomputedValueProvider constructor=create kwargs={} node_name=flows_provider\n",
      "2023-12-07 16:58:57 [debug    ] graph.node.running_component   clazz=PrecomputedValueProvider fn=get_value node_name=flows_provider\n",
      "2023-12-07 16:58:57 [debug    ] graph.node.hook.on_after_node  hook_name=LoggingHook node_name=flows_provider\n",
      "2023-12-07 16:58:57 [debug    ] graph.node.hook.on_after_node  hook_name=TrainingHook node_name=flows_provider\n",
      "2023-12-07 16:58:57 [debug    ] graph.node.hook.on_before_node hook_name=LoggingHook node_name=train_CountVectorsFeaturizer4\n",
      "2023-12-07 16:58:57 [debug    ] graph.node.hook.on_before_node hook_name=TrainingHook node_name=train_CountVectorsFeaturizer4\n",
      "2023-12-07 16:58:57 [debug    ] graph.node.loading_component   clazz=PrecomputedValueProvider constructor=create kwargs={} node_name=train_CountVectorsFeaturizer4\n",
      "2023-12-07 16:58:57 [debug    ] graph.node.running_component   clazz=PrecomputedValueProvider fn=get_value node_name=train_CountVectorsFeaturizer4\n",
      "2023-12-07 16:58:57 [debug    ] graph.node.hook.on_after_node  hook_name=LoggingHook node_name=train_CountVectorsFeaturizer4\n",
      "2023-12-07 16:58:57 [debug    ] graph.node.hook.on_after_node  hook_name=TrainingHook node_name=train_CountVectorsFeaturizer4\n",
      "2023-12-07 16:58:57 [debug    ] graph.node.hook.on_before_node hook_name=LoggingHook node_name=train_DIETClassifier5\n",
      "2023-12-07 16:58:57 [debug    ] graph.node.hook.on_before_node hook_name=TrainingHook node_name=train_DIETClassifier5\n",
      "2023-12-07 16:58:57 [debug    ] graph.node.loading_component   clazz=PrecomputedValueProvider constructor=create kwargs={} node_name=train_DIETClassifier5\n",
      "2023-12-07 16:58:57 [debug    ] graph.node.running_component   clazz=PrecomputedValueProvider fn=get_value node_name=train_DIETClassifier5\n",
      "2023-12-07 16:58:57 [debug    ] graph.node.hook.on_after_node  hook_name=LoggingHook node_name=train_DIETClassifier5\n",
      "2023-12-07 16:58:57 [debug    ] graph.node.hook.on_after_node  hook_name=TrainingHook node_name=train_DIETClassifier5\n",
      "Your Rasa model is trained and saved at 'nlu-20231207-165856-simple-score.tar.gz'.\n",
      "Model trained and saved to TrainingResult(model='nlu-20231207-165856-simple-score.tar.gz', code=0, dry_run_results=None)\n"
     ]
    }
   ],
   "source": [
    "config_path = \"config.yml\"\n",
    "training_data_path = \"nlu.yml\"\n",
    "output_path = ''\n",
    "\n",
    "# Train the model\n",
    "model_path = rasa.train(config=config_path, training_files=training_data_path, output=output_path, domain=None)\n",
    "\n",
    "print(f\"Model trained and saved to {model_path}\")"
   ]
  },
  {
   "cell_type": "markdown",
   "metadata": {},
   "source": [
    "#### Import Trained Intent Classifier for Testing using Custom Question"
   ]
  },
  {
   "cell_type": "code",
   "execution_count": 3,
   "metadata": {},
   "outputs": [
    {
     "name": "stdout",
     "output_type": "stream",
     "text": [
      "2023-12-07 16:59:15 [debug    ] graph.node.loading_component   clazz=NLUMessageConverter constructor=load kwargs={} node_name=nlu_message_converter\n",
      "2023-12-07 16:59:15 [debug    ] graph.node.loading_component   clazz=FlowsProvider constructor=load kwargs={} node_name=flows_provider\n",
      "2023-12-07 16:59:15 [debug    ] graph.node.loading_component   clazz=SpacyNLP constructor=load kwargs={} node_name=provide_SpacyNLP0\n",
      "2023-12-07 16:59:16 [debug    ] graph.node.loading_component   clazz=SpacyNLP constructor=load kwargs={} node_name=run_SpacyNLP0\n",
      "2023-12-07 16:59:17 [debug    ] graph.node.loading_component   clazz=SpacyTokenizer constructor=load kwargs={} node_name=run_SpacyTokenizer1\n",
      "2023-12-07 16:59:17 [debug    ] graph.node.loading_component   clazz=SpacyEntityExtractor constructor=load kwargs={} node_name=run_SpacyEntityExtractor2\n",
      "2023-12-07 16:59:17 [debug    ] graph.node.loading_component   clazz=SpacyFeaturizer constructor=load kwargs={} node_name=run_SpacyFeaturizer3\n",
      "2023-12-07 16:59:17 [debug    ] graph.node.loading_component   clazz=CountVectorsFeaturizer constructor=load kwargs={} node_name=run_CountVectorsFeaturizer4\n",
      "2023-12-07 16:59:17 [debug    ] graph.node.loading_component   clazz=DIETClassifier constructor=load kwargs={} node_name=run_DIETClassifier5\n"
     ]
    },
    {
     "name": "stderr",
     "output_type": "stream",
     "text": [
      "C:\\Users\\yijin\\anaconda3\\envs\\drlproject\\lib\\site-packages\\rasa\\utils\\train_utils.py:525: UserWarning: constrain_similarities is set to `False`. It is recommended to set it to `True` when using cross-entropy loss.\n",
      "  rasa.shared.utils.io.raise_warning(\n"
     ]
    },
    {
     "name": "stdout",
     "output_type": "stream",
     "text": [
      "2023-12-07 16:59:31 [debug    ] graph.node.loading_component   clazz=RegexMessageHandler constructor=load kwargs={} node_name=run_RegexMessageHandler\n"
     ]
    },
    {
     "name": "stderr",
     "output_type": "stream",
     "text": [
      "C:\\Users\\yijin\\anaconda3\\envs\\drlproject\\lib\\site-packages\\rasa\\core\\processor.py:112: UserWarning: The model metadata does not contain a value for the 'assistant_id' attribute. Check that 'config.yml' file contains a value for the 'assistant_id' key and re-train the model. Failure to do so will result in streaming events without a unique assistant identifier.\n",
      "  rasa.shared.utils.io.raise_warning(\n"
     ]
    }
   ],
   "source": [
    "#load the trained model using Agent\n",
    "from rasa.core.agent import Agent\n",
    "\n",
    "agent = Agent.load(model_path='nlu-20231207-165856-simple-score.tar.gz')"
   ]
  },
  {
   "cell_type": "markdown",
   "metadata": {},
   "source": [
    "#### Test the intent classifier with some sentence"
   ]
  },
  {
   "cell_type": "code",
   "execution_count": 4,
   "metadata": {},
   "outputs": [
    {
     "name": "stdout",
     "output_type": "stream",
     "text": [
      "2023-12-07 16:59:33 [debug    ] graph.node.running_component   clazz=NLUMessageConverter fn=convert_user_message node_name=nlu_message_converter\n",
      "2023-12-07 16:59:33 [debug    ] graph.node.running_component   clazz=SpacyNLP fn=provide node_name=provide_SpacyNLP0\n",
      "2023-12-07 16:59:33 [debug    ] graph.node.running_component   clazz=SpacyNLP fn=process node_name=run_SpacyNLP0\n",
      "2023-12-07 16:59:33 [debug    ] graph.node.running_component   clazz=SpacyTokenizer fn=process node_name=run_SpacyTokenizer1\n",
      "2023-12-07 16:59:33 [debug    ] graph.node.running_component   clazz=SpacyEntityExtractor fn=process node_name=run_SpacyEntityExtractor2\n",
      "2023-12-07 16:59:33 [debug    ] graph.node.running_component   clazz=SpacyFeaturizer fn=process node_name=run_SpacyFeaturizer3\n",
      "2023-12-07 16:59:33 [debug    ] graph.node.running_component   clazz=CountVectorsFeaturizer fn=process node_name=run_CountVectorsFeaturizer4\n",
      "2023-12-07 16:59:33 [debug    ] graph.node.running_component   clazz=DIETClassifier fn=process node_name=run_DIETClassifier5\n",
      "2023-12-07 16:59:33 [debug    ] graph.node.running_component   clazz=RegexMessageHandler fn=process node_name=run_RegexMessageHandler\n",
      "2023-12-07 16:59:33 [debug    ] processor.message.parse        parse_data_entities=[{'entity': 'PERSON', 'value': 'Ray Kurzweil', 'start': 9, 'confidence': None, 'end': 21, 'extractor': 'SpacyEntityExtractor'}] parse_data_intent={'name': 'when_question', 'confidence': 0.9972459077835083} parse_data_text=When did Ray Kurzweil graduated?\n"
     ]
    },
    {
     "data": {
      "text/plain": [
       "{'text': 'When did Ray Kurzweil graduated?',\n",
       " 'intent': {'name': 'when_question', 'confidence': 0.9972459077835083},\n",
       " 'entities': [{'entity': 'PERSON',\n",
       "   'value': 'Ray Kurzweil',\n",
       "   'start': 9,\n",
       "   'confidence': None,\n",
       "   'end': 21,\n",
       "   'extractor': 'SpacyEntityExtractor'}],\n",
       " 'text_tokens': [(0, 4), (5, 8), (9, 12), (13, 21), (22, 31), (31, 32)],\n",
       " 'intent_ranking': [{'name': 'when_question',\n",
       "   'confidence': 0.9972459077835083},\n",
       "  {'name': 'where_question', 'confidence': 0.002575061284005642},\n",
       "  {'name': 'what_question', 'confidence': 0.00012185474042780697},\n",
       "  {'name': 'who_question', 'confidence': 5.721067645936273e-05}]}"
      ]
     },
     "execution_count": 4,
     "metadata": {},
     "output_type": "execute_result"
    }
   ],
   "source": [
    "#Perform intent classification using the agent parse_message\n",
    "await agent.parse_message(\n",
    "                message_data='When did Ray Kurzweil graduated?')"
   ]
  },
  {
   "cell_type": "code",
   "execution_count": 5,
   "metadata": {},
   "outputs": [
    {
     "name": "stdout",
     "output_type": "stream",
     "text": [
      "2023-12-07 16:59:38 [debug    ] graph.node.running_component   clazz=NLUMessageConverter fn=convert_user_message node_name=nlu_message_converter\n",
      "2023-12-07 16:59:38 [debug    ] graph.node.running_component   clazz=SpacyNLP fn=provide node_name=provide_SpacyNLP0\n",
      "2023-12-07 16:59:38 [debug    ] graph.node.running_component   clazz=SpacyNLP fn=process node_name=run_SpacyNLP0\n",
      "2023-12-07 16:59:38 [debug    ] graph.node.running_component   clazz=SpacyTokenizer fn=process node_name=run_SpacyTokenizer1\n",
      "2023-12-07 16:59:38 [debug    ] graph.node.running_component   clazz=SpacyEntityExtractor fn=process node_name=run_SpacyEntityExtractor2\n",
      "2023-12-07 16:59:38 [debug    ] graph.node.running_component   clazz=SpacyFeaturizer fn=process node_name=run_SpacyFeaturizer3\n",
      "2023-12-07 16:59:38 [debug    ] graph.node.running_component   clazz=CountVectorsFeaturizer fn=process node_name=run_CountVectorsFeaturizer4\n",
      "2023-12-07 16:59:38 [debug    ] graph.node.running_component   clazz=DIETClassifier fn=process node_name=run_DIETClassifier5\n",
      "2023-12-07 16:59:38 [debug    ] graph.node.running_component   clazz=RegexMessageHandler fn=process node_name=run_RegexMessageHandler\n",
      "2023-12-07 16:59:38 [debug    ] processor.message.parse        parse_data_entities=[{'entity': 'PERSON', 'value': 'Ray Kurzweil', 'start': 10, 'confidence': None, 'end': 22, 'extractor': 'SpacyEntityExtractor'}] parse_data_intent={'name': 'where_question', 'confidence': 0.9999982118606567} parse_data_text=Where did Ray Kurzweil borned?\n"
     ]
    },
    {
     "data": {
      "text/plain": [
       "{'text': 'Where did Ray Kurzweil borned?',\n",
       " 'intent': {'name': 'where_question', 'confidence': 0.9999982118606567},\n",
       " 'entities': [{'entity': 'PERSON',\n",
       "   'value': 'Ray Kurzweil',\n",
       "   'start': 10,\n",
       "   'confidence': None,\n",
       "   'end': 22,\n",
       "   'extractor': 'SpacyEntityExtractor'}],\n",
       " 'text_tokens': [(0, 5), (6, 9), (10, 13), (14, 22), (23, 29), (29, 30)],\n",
       " 'intent_ranking': [{'name': 'where_question',\n",
       "   'confidence': 0.9999982118606567},\n",
       "  {'name': 'who_question', 'confidence': 1.1625143088167533e-06},\n",
       "  {'name': 'when_question', 'confidence': 6.590543080164935e-07},\n",
       "  {'name': 'what_question', 'confidence': 4.009635645729759e-08}]}"
      ]
     },
     "execution_count": 5,
     "metadata": {},
     "output_type": "execute_result"
    }
   ],
   "source": [
    "#Perform intent classification using the agent parse_message\n",
    "await agent.parse_message(\n",
    "                message_data='Where did Ray Kurzweil borned?')"
   ]
  },
  {
   "cell_type": "code",
   "execution_count": 6,
   "metadata": {},
   "outputs": [
    {
     "name": "stdout",
     "output_type": "stream",
     "text": [
      "2023-12-07 16:59:40 [debug    ] graph.node.running_component   clazz=NLUMessageConverter fn=convert_user_message node_name=nlu_message_converter\n",
      "2023-12-07 16:59:40 [debug    ] graph.node.running_component   clazz=SpacyNLP fn=provide node_name=provide_SpacyNLP0\n",
      "2023-12-07 16:59:40 [debug    ] graph.node.running_component   clazz=SpacyNLP fn=process node_name=run_SpacyNLP0\n",
      "2023-12-07 16:59:40 [debug    ] graph.node.running_component   clazz=SpacyTokenizer fn=process node_name=run_SpacyTokenizer1\n",
      "2023-12-07 16:59:40 [debug    ] graph.node.running_component   clazz=SpacyEntityExtractor fn=process node_name=run_SpacyEntityExtractor2\n",
      "2023-12-07 16:59:40 [debug    ] graph.node.running_component   clazz=SpacyFeaturizer fn=process node_name=run_SpacyFeaturizer3\n",
      "2023-12-07 16:59:40 [debug    ] graph.node.running_component   clazz=CountVectorsFeaturizer fn=process node_name=run_CountVectorsFeaturizer4\n",
      "2023-12-07 16:59:40 [debug    ] graph.node.running_component   clazz=DIETClassifier fn=process node_name=run_DIETClassifier5\n",
      "2023-12-07 16:59:40 [debug    ] graph.node.running_component   clazz=RegexMessageHandler fn=process node_name=run_RegexMessageHandler\n",
      "2023-12-07 16:59:40 [debug    ] processor.message.parse        parse_data_entities=[{'entity': 'PERSON', 'value': 'Ray Kurzweil', 'start': 3, 'confidence': None, 'end': 15, 'extractor': 'SpacyEntityExtractor'}] parse_data_intent={'name': 'what_question', 'confidence': 0.8188115358352661} parse_data_text=Is Ray Kurzweil a computer scientist?\n"
     ]
    },
    {
     "data": {
      "text/plain": [
       "{'text': 'Is Ray Kurzweil a computer scientist?',\n",
       " 'intent': {'name': 'what_question', 'confidence': 0.8188115358352661},\n",
       " 'entities': [{'entity': 'PERSON',\n",
       "   'value': 'Ray Kurzweil',\n",
       "   'start': 3,\n",
       "   'confidence': None,\n",
       "   'end': 15,\n",
       "   'extractor': 'SpacyEntityExtractor'}],\n",
       " 'text_tokens': [(0, 2),\n",
       "  (3, 6),\n",
       "  (7, 15),\n",
       "  (16, 17),\n",
       "  (18, 26),\n",
       "  (27, 36),\n",
       "  (36, 37)],\n",
       " 'intent_ranking': [{'name': 'what_question',\n",
       "   'confidence': 0.8188115358352661},\n",
       "  {'name': 'when_question', 'confidence': 0.0954953134059906},\n",
       "  {'name': 'who_question', 'confidence': 0.07756372541189194},\n",
       "  {'name': 'where_question', 'confidence': 0.008129424415528774}]}"
      ]
     },
     "execution_count": 6,
     "metadata": {},
     "output_type": "execute_result"
    }
   ],
   "source": [
    "#Perform intent classification using the agent parse_message\n",
    "await agent.parse_message(\n",
    "                message_data='Is Ray Kurzweil a computer scientist?')"
   ]
  },
  {
   "cell_type": "code",
   "execution_count": 7,
   "metadata": {},
   "outputs": [
    {
     "name": "stdout",
     "output_type": "stream",
     "text": [
      "2023-12-07 16:59:42 [debug    ] graph.node.running_component   clazz=NLUMessageConverter fn=convert_user_message node_name=nlu_message_converter\n",
      "2023-12-07 16:59:42 [debug    ] graph.node.running_component   clazz=SpacyNLP fn=provide node_name=provide_SpacyNLP0\n",
      "2023-12-07 16:59:42 [debug    ] graph.node.running_component   clazz=SpacyNLP fn=process node_name=run_SpacyNLP0\n",
      "2023-12-07 16:59:42 [debug    ] graph.node.running_component   clazz=SpacyTokenizer fn=process node_name=run_SpacyTokenizer1\n",
      "2023-12-07 16:59:42 [debug    ] graph.node.running_component   clazz=SpacyEntityExtractor fn=process node_name=run_SpacyEntityExtractor2\n",
      "2023-12-07 16:59:43 [debug    ] graph.node.running_component   clazz=SpacyFeaturizer fn=process node_name=run_SpacyFeaturizer3\n",
      "2023-12-07 16:59:43 [debug    ] graph.node.running_component   clazz=CountVectorsFeaturizer fn=process node_name=run_CountVectorsFeaturizer4\n",
      "2023-12-07 16:59:43 [debug    ] graph.node.running_component   clazz=DIETClassifier fn=process node_name=run_DIETClassifier5\n",
      "2023-12-07 16:59:43 [debug    ] graph.node.running_component   clazz=RegexMessageHandler fn=process node_name=run_RegexMessageHandler\n",
      "2023-12-07 16:59:43 [debug    ] processor.message.parse        parse_data_entities=[{'entity': 'PERSON', 'value': 'Ray Kurzweil', 'start': 36, 'confidence': None, 'end': 48, 'extractor': 'SpacyEntityExtractor'}] parse_data_intent={'name': 'who_question', 'confidence': 0.9985654950141907} parse_data_text=List some books or movies featuring Ray Kurzweil.\n"
     ]
    },
    {
     "data": {
      "text/plain": [
       "{'text': 'List some books or movies featuring Ray Kurzweil.',\n",
       " 'intent': {'name': 'who_question', 'confidence': 0.9985654950141907},\n",
       " 'entities': [{'entity': 'PERSON',\n",
       "   'value': 'Ray Kurzweil',\n",
       "   'start': 36,\n",
       "   'confidence': None,\n",
       "   'end': 48,\n",
       "   'extractor': 'SpacyEntityExtractor'}],\n",
       " 'text_tokens': [(0, 4),\n",
       "  (5, 9),\n",
       "  (10, 15),\n",
       "  (16, 18),\n",
       "  (19, 25),\n",
       "  (26, 35),\n",
       "  (36, 39),\n",
       "  (40, 48),\n",
       "  (48, 49)],\n",
       " 'intent_ranking': [{'name': 'who_question', 'confidence': 0.9985654950141907},\n",
       "  {'name': 'what_question', 'confidence': 0.0014293480198830366},\n",
       "  {'name': 'where_question', 'confidence': 3.4417055303492816e-06},\n",
       "  {'name': 'when_question', 'confidence': 1.7898091755341738e-06}]}"
      ]
     },
     "execution_count": 7,
     "metadata": {},
     "output_type": "execute_result"
    }
   ],
   "source": [
    "#Perform intent classification using the agent parse_message\n",
    "await agent.parse_message(\n",
    "                message_data='List some books or movies featuring Ray Kurzweil.')"
   ]
  },
  {
   "cell_type": "code",
   "execution_count": 8,
   "metadata": {},
   "outputs": [
    {
     "name": "stdout",
     "output_type": "stream",
     "text": [
      "2023-12-07 16:59:45 [debug    ] graph.node.running_component   clazz=NLUMessageConverter fn=convert_user_message node_name=nlu_message_converter\n",
      "2023-12-07 16:59:45 [debug    ] graph.node.running_component   clazz=SpacyNLP fn=provide node_name=provide_SpacyNLP0\n",
      "2023-12-07 16:59:45 [debug    ] graph.node.running_component   clazz=SpacyNLP fn=process node_name=run_SpacyNLP0\n",
      "2023-12-07 16:59:45 [debug    ] graph.node.running_component   clazz=SpacyTokenizer fn=process node_name=run_SpacyTokenizer1\n",
      "2023-12-07 16:59:45 [debug    ] graph.node.running_component   clazz=SpacyEntityExtractor fn=process node_name=run_SpacyEntityExtractor2\n",
      "2023-12-07 16:59:45 [debug    ] graph.node.running_component   clazz=SpacyFeaturizer fn=process node_name=run_SpacyFeaturizer3\n",
      "2023-12-07 16:59:45 [debug    ] graph.node.running_component   clazz=CountVectorsFeaturizer fn=process node_name=run_CountVectorsFeaturizer4\n",
      "2023-12-07 16:59:45 [debug    ] graph.node.running_component   clazz=DIETClassifier fn=process node_name=run_DIETClassifier5\n",
      "2023-12-07 16:59:45 [debug    ] graph.node.running_component   clazz=RegexMessageHandler fn=process node_name=run_RegexMessageHandler\n",
      "2023-12-07 16:59:45 [debug    ] processor.message.parse        parse_data_entities=[] parse_data_intent={'name': 'who_question', 'confidence': 0.9999239444732666} parse_data_text=Tell me the author of the book \"Superintelligence.\"\n"
     ]
    },
    {
     "data": {
      "text/plain": [
       "{'text': 'Tell me the author of the book \"Superintelligence.\"',\n",
       " 'intent': {'name': 'who_question', 'confidence': 0.9999239444732666},\n",
       " 'entities': [],\n",
       " 'text_tokens': [(0, 4),\n",
       "  (5, 7),\n",
       "  (8, 11),\n",
       "  (12, 18),\n",
       "  (19, 21),\n",
       "  (22, 25),\n",
       "  (26, 30),\n",
       "  (31, 32),\n",
       "  (32, 49),\n",
       "  (49, 50),\n",
       "  (50, 51)],\n",
       " 'intent_ranking': [{'name': 'who_question', 'confidence': 0.9999239444732666},\n",
       "  {'name': 'what_question', 'confidence': 7.519700011471286e-05},\n",
       "  {'name': 'where_question', 'confidence': 6.859613677079324e-07},\n",
       "  {'name': 'when_question', 'confidence': 1.0949098339096963e-07}]}"
      ]
     },
     "execution_count": 8,
     "metadata": {},
     "output_type": "execute_result"
    }
   ],
   "source": [
    "#Perform intent classification using the agent parse_message\n",
    "await agent.parse_message(message_data='Tell me the author of the book \"Superintelligence.\"')"
   ]
  },
  {
   "cell_type": "markdown",
   "metadata": {},
   "source": [
    "### NER using spaCy"
   ]
  },
  {
   "cell_type": "code",
   "execution_count": 9,
   "metadata": {},
   "outputs": [],
   "source": [
    "# define NER from spaCy\n",
    "ner = spacy.load(\"en_core_web_sm\")"
   ]
  },
  {
   "cell_type": "code",
   "execution_count": 12,
   "metadata": {},
   "outputs": [],
   "source": [
    "def extract_named_entity(text):\n",
    "    # Process the text with spaCy NER\n",
    "    doc = ner(text)\n",
    "\n",
    "    # Extract named entities\n",
    "    entities = [(ent.text, ent.label_) for ent in doc.ents]\n",
    "\n",
    "    # Display the entities using spaCy's displacy\n",
    "    displacy.render(doc, style=\"ent\", jupyter=True)\n",
    "\n",
    "    return entities"
   ]
  },
  {
   "cell_type": "code",
   "execution_count": 13,
   "metadata": {},
   "outputs": [
    {
     "name": "stderr",
     "output_type": "stream",
     "text": [
      "C:\\Users\\yijin\\anaconda3\\envs\\drlproject\\lib\\site-packages\\spacy\\displacy\\__init__.py:70: DeprecationWarning: Importing display from IPython.core.display is deprecated since IPython 7.14, please import from IPython display\n",
      "  from IPython.core.display import display, HTML\n"
     ]
    },
    {
     "data": {
      "text/html": [
       "<span class=\"tex2jax_ignore\"><div class=\"entities\" style=\"line-height: 2.5; direction: ltr\">I am curious, where did \n",
       "<mark class=\"entity\" style=\"background: #aa9cfc; padding: 0.45em 0.6em; margin: 0 0.25em; line-height: 1; border-radius: 0.35em;\">\n",
       "    Ray Kurzweil\n",
       "    <span style=\"font-size: 0.8em; font-weight: bold; line-height: 1; border-radius: 0.35em; vertical-align: middle; margin-left: 0.5rem\">PERSON</span>\n",
       "</mark>\n",
       " worked at? Is it in \n",
       "<mark class=\"entity\" style=\"background: #feca74; padding: 0.45em 0.6em; margin: 0 0.25em; line-height: 1; border-radius: 0.35em;\">\n",
       "    America\n",
       "    <span style=\"font-size: 0.8em; font-weight: bold; line-height: 1; border-radius: 0.35em; vertical-align: middle; margin-left: 0.5rem\">GPE</span>\n",
       "</mark>\n",
       "</div></span>"
      ],
      "text/plain": [
       "<IPython.core.display.HTML object>"
      ]
     },
     "metadata": {},
     "output_type": "display_data"
    },
    {
     "name": "stdout",
     "output_type": "stream",
     "text": [
      "Named Entities: [('Ray Kurzweil', 'PERSON'), ('America', 'GPE')]\n"
     ]
    }
   ],
   "source": [
    "text = \"I am curious, where did Ray Kurzweil worked at? Is it in America\"\n",
    "named_entities = extract_named_entity(text)\n",
    "\n",
    "# Print the extracted entities\n",
    "print(\"Named Entities:\", named_entities)"
   ]
  }
 ],
 "metadata": {
  "kernelspec": {
   "display_name": "Python 3 (ipykernel)",
   "language": "python",
   "name": "python3"
  },
  "language_info": {
   "codemirror_mode": {
    "name": "ipython",
    "version": 3
   },
   "file_extension": ".py",
   "mimetype": "text/x-python",
   "name": "python",
   "nbconvert_exporter": "python",
   "pygments_lexer": "ipython3",
   "version": "3.8.18"
  }
 },
 "nbformat": 4,
 "nbformat_minor": 4
}
